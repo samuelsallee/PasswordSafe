{
 "cells": [
  {
   "cell_type": "code",
   "execution_count": 18,
   "metadata": {},
   "outputs": [],
   "source": [
    "# default_exp changePassword"
   ]
  },
  {
   "cell_type": "markdown",
   "metadata": {},
   "source": [
    "# changePassword\n",
    "> allow the user to change their password"
   ]
  },
  {
   "cell_type": "code",
   "execution_count": 19,
   "metadata": {},
   "outputs": [],
   "source": [
    "#export\n",
    "########################### Imports ###########################\n",
    "import hashlib, uuid, os, logging, sys\n",
    "import ujson as json\n",
    "from awsSchema.apigateway import Event,Response\n",
    "from beartype import beartype\n",
    "from copy import deepcopy\n",
    "from pynamodb.models import Model\n",
    "from pynamodb.attributes import UnicodeAttribute, NumberAttribute, UnicodeSetAttribute, UTCDateTimeAttribute\n",
    "from pynamodb.indexes import GlobalSecondaryIndex, AllProjection"
   ]
  },
  {
   "cell_type": "code",
   "execution_count": 20,
   "metadata": {},
   "outputs": [],
   "source": [
    "#export\n",
    "############### Logger for debugging code ##################\n",
    "logger = logging.getLogger(__name__)\n",
    "logger.setLevel(logging.DEBUG)\n",
    "logger.addHandler(logging.StreamHandler(sys.stdout))"
   ]
  },
  {
   "cell_type": "code",
   "execution_count": 21,
   "metadata": {},
   "outputs": [],
   "source": [
    "#export\n",
    "###################### Error Definitions ######################\n",
    "class HelperError(Exception): pass\n",
    "class ParseInputError(HelperError): pass\n",
    "class CheckDatabaseError(HelperError): pass\n",
    "class QueryDatabaseError(HelperError): pass\n",
    "class GetAttributeError(HelperError): pass\n",
    "class NewPasswordError(HelperError): pass"
   ]
  },
  {
   "cell_type": "code",
   "execution_count": 22,
   "metadata": {},
   "outputs": [],
   "source": [
    "#hide\n",
    "os.environ['USERPASSWORDTABLE'] = 'user-password-demo-sallee-master'"
   ]
  },
  {
   "cell_type": "code",
   "execution_count": 23,
   "metadata": {},
   "outputs": [],
   "source": [
    "#export\n",
    "################ Setting Globals from Env Vars ################\n",
    "USERPASSWORDTABLE = os.environ['USERPASSWORDTABLE']"
   ]
  },
  {
   "cell_type": "code",
   "execution_count": 24,
   "metadata": {},
   "outputs": [],
   "source": [
    "class UsernameIndex(GlobalSecondaryIndex):\n",
    "    \"\"\" a global secondary index for username \"\"\"\n",
    "    class Meta:\n",
    "        index_name = 'username'\n",
    "        read_capacity_units = 2\n",
    "        write_capacity_units = 1\n",
    "        projection = AllProjection()\n",
    "\n",
    "    username = UnicodeAttribute(hash_key=True)"
   ]
  },
  {
   "cell_type": "code",
   "execution_count": 25,
   "metadata": {},
   "outputs": [],
   "source": [
    "#export\n",
    "############## Class for accessing DynamoDB #################\n",
    "class Thread(Model):\n",
    "    class Meta:\n",
    "        table_name = USERPASSWORDTABLE\n",
    "        region = 'ap-southeast-1'\n",
    "\n",
    "    username = UnicodeAttribute(hash_key=True, attr_name='username')\n",
    "    passwordHash = UnicodeAttribute(attr_name='passwordHash')\n",
    "    salt = UnicodeAttribute(attr_name='salt')\n",
    "    hashAndSalt = UnicodeAttribute(attr_name='hashAndSalt')\n",
    "    username_index = UsernameIndex()"
   ]
  },
  {
   "cell_type": "code",
   "execution_count": 26,
   "metadata": {},
   "outputs": [],
   "source": [
    "#export\n",
    "########## Helper class for main function ##########\n",
    "EventInput = dict\n",
    "class H:\n",
    "    @staticmethod\n",
    "    @beartype\n",
    "    def sha256(password):\n",
    "        return hashlib.sha256(password.encode()).hexdigest()\n",
    "\n",
    "    @classmethod\n",
    "    @beartype\n",
    "    def salted_sha256(cls, password: str, salt: str ='') -> tuple:\n",
    "        if salt == '':\n",
    "            salt = cls.salt()\n",
    "        return f'{cls.sha256(salt + password)}', f'{salt}'\n",
    "        \n",
    "    @staticmethod\n",
    "    @beartype\n",
    "    def parseInput(event: EventInput) -> tuple:\n",
    "        '''\n",
    "        returns username and password arguments from input\n",
    "        '''\n",
    "        body = Event.parseBody(deepcopy(event))\n",
    "        try:\n",
    "            username = body['username']\n",
    "        except KeyError:\n",
    "            logger.error('username is not in body')\n",
    "            raise ParseInputError('username is not in body')\n",
    "\n",
    "        try:\n",
    "            oldPassword = body['oldPassword']\n",
    "        except KeyError:\n",
    "            logger.error('oldPassword is not in body')\n",
    "            raise ParseInputError('oldPassword is not in body')\n",
    "        \n",
    "        try:\n",
    "            newPassword = body['newPassword']\n",
    "        except KeyError:\n",
    "            logger.error('newPassword is not in body')\n",
    "            raise ParseInputError('newPassword is not in body')\n",
    "\n",
    "\n",
    "        return username, oldPassword, newPassword\n",
    "    \n",
    "    @staticmethod\n",
    "    @beartype\n",
    "    def usernameInDatabase(username: str) -> bool:\n",
    "        try:\n",
    "            queryResult = Thread.query(username)\n",
    "            listResult = [row for row in queryResult]\n",
    "            if len(listResult) != 1:\n",
    "                return False\n",
    "            return True\n",
    "        except Exception as e:\n",
    "            logger.error(f'Unable to check whether or not the username is in the database:\\n{e}')\n",
    "            raise CheckDatabaseError(f'Unable to check whether or not the username is in the database:\\n{e}')\n",
    "\n",
    "    @staticmethod\n",
    "    @beartype\n",
    "    def tableExists() -> bool:\n",
    "        try:\n",
    "            if Thread.exists():\n",
    "                return True\n",
    "            return False\n",
    "        except Exception as e:\n",
    "            logger.error(f\"Unable to see whether or not the database exists:\\n{e}\")\n",
    "            raise CheckDatabaseError(f\"Unable to see whether or not the database exists:\\n{e}\")\n",
    "    \n",
    "    @staticmethod\n",
    "    @beartype\n",
    "    def getSalt(username: str) -> str:\n",
    "        try: \n",
    "            user = queryResult = Thread.query(username)\n",
    "        except Exception as e:\n",
    "            logger.error(f'unable to query database:\\n{e}')\n",
    "            raise QueryDatabaseError(f'unable to query database:\\n{e}')\n",
    "        \n",
    "        try:\n",
    "            for U in user:\n",
    "                return U.salt\n",
    "        except Exception as e:\n",
    "            logger.error(f\"Unable to get the user's hash salt:\\n{e}\")\n",
    "            raise GetAttributeError(f\"Unable to get the user's hash salt:\\n{e}\")\n",
    "        \n",
    "    @staticmethod\n",
    "    @beartype\n",
    "    def getHash(username: str) -> str:\n",
    "        try: \n",
    "            user = queryResult = Thread.query(username)\n",
    "        except Exception as e:\n",
    "            logger.error(f'unable to query database:\\n{e}')\n",
    "            raise QueryDatabaseError(f'unable to query database:\\n{e}')\n",
    "\n",
    "        try:\n",
    "            for U in user:\n",
    "                return U.passwordHash\n",
    "        except Exception as e:\n",
    "            logger.error(f\"Unable to get the user's hash salt:\\n{e}\")\n",
    "            raise GetAttributeError(f\"Unable to get the user's hash salt:\\n{e}\")\n",
    "    \n",
    "    @staticmethod\n",
    "    @beartype\n",
    "    def setNewPassword(username: str, hash: str, salt: str, hashAndSalt: str):\n",
    "        try:\n",
    "            try:\n",
    "                logger.info(f'username :: {username}')\n",
    "                user = Thread.get(username)\n",
    "            except Exception as e:\n",
    "                logger.error(f\"Unable to perform get function ::\\n{e}\")\n",
    "                raise Exception(f\"Unable to perform get function ::\\n{e}\")\n",
    "            \n",
    "            logger.info(f'user :: {user}')\n",
    "            user.update(actions=[\n",
    "                Thread.passwordHash.set(hash),\n",
    "                Thread.hashAndSalt.set(hashAndSalt),\n",
    "                Thread.salt.set(salt)\n",
    "            ])\n",
    "        except Exception as e:\n",
    "            logger.error(f'Unable to add user to the database:\\n{e}')\n",
    "            raise NewPasswordError(f'Unable to add user to the database:\\n{e}')\n",
    "    \n",
    "    @staticmethod\n",
    "    @beartype\n",
    "    def salt() -> str:\n",
    "        return uuid.uuid4().hex\n",
    "        "
   ]
  },
  {
   "cell_type": "code",
   "execution_count": 27,
   "metadata": {},
   "outputs": [],
   "source": [
    "#export\n",
    "############################## Main Function ###############################\n",
    "def changePassword(event, *args):\n",
    "\n",
    "  logger.info(f\"Password table name :: {USERPASSWORDTABLE}\")\n",
    "  \n",
    "  evtCpy = deepcopy(event)\n",
    "  logger.info(f'Event :: {evtCpy}')\n",
    "\n",
    "  username, oldPassword, newPassword = H.parseInput(evtCpy)\n",
    "  # Take this away before using, it isn't a good idea to save the username and pw in logs\n",
    "  # logger.info(f\"Username :: {username}\\npassword :: {password}\")\n",
    "\n",
    "  if H.usernameInDatabase(username):\n",
    "    oldSalt = H.getSalt(username)\n",
    "    oldHash = H.getHash(username)\n",
    "    logger.info(f\"Old Hash :: {oldHash}\")\n",
    "    logger.info(f\"Old Salt :: {oldSalt}\")\n",
    "    hashedPW, salt = H.salted_sha256(oldPassword, oldSalt)\n",
    "    if hashedPW == oldHash:\n",
    "\n",
    "      newHash, newSalt = H.salted_sha256(newPassword)\n",
    "      newHashAndSalt = newHash + ':' + newSalt\n",
    "      logger.info(f'new Hash :: {newHash}')\n",
    "      logger.info(f'new Salt :: {newSalt}')\n",
    "\n",
    "      H.setNewPassword(username, newHash, newSalt, newHashAndSalt)\n",
    "      return Response.returnSuccess(\"Password Changed Successfully\")\n",
    "    return Response.returnError(\"Incorrect Username or Password\")\n",
    "  \n",
    "  return Response.returnError(\"Invalid Username\")"
   ]
  },
  {
   "cell_type": "code",
   "execution_count": 28,
   "metadata": {},
   "outputs": [
    {
     "ename": "AttributeError",
     "evalue": "'NoneType' object has no attribute 'serialize'",
     "output_type": "error",
     "traceback": [
      "\u001b[0;31m---------------------------------------------------------------------------\u001b[0m",
      "\u001b[0;31mAttributeError\u001b[0m                            Traceback (most recent call last)",
      "\u001b[1;32m/Users/sam/Documents/Repos/PasswordSafe/nbs/changePassword.ipynb Cell 12\u001b[0m in \u001b[0;36m<cell line: 2>\u001b[0;34m()\u001b[0m\n\u001b[1;32m      <a href='vscode-notebook-cell:/Users/sam/Documents/Repos/PasswordSafe/nbs/changePassword.ipynb#X14sZmlsZQ%3D%3D?line=0'>1</a>\u001b[0m \u001b[39m#hide\u001b[39;00m\n\u001b[0;32m----> <a href='vscode-notebook-cell:/Users/sam/Documents/Repos/PasswordSafe/nbs/changePassword.ipynb#X14sZmlsZQ%3D%3D?line=1'>2</a>\u001b[0m x \u001b[39m=\u001b[39m Thread\u001b[39m.\u001b[39;49mget(\u001b[39m\"\u001b[39;49m\u001b[39msam3\u001b[39;49m\u001b[39m\"\u001b[39;49m, \u001b[39m\"\u001b[39;49m\u001b[39mec864784eac7772a9a685caee61ce5fed08003c705fc346e85d2cdc938b56093\u001b[39;49m\u001b[39m\"\u001b[39;49m)\n\u001b[1;32m      <a href='vscode-notebook-cell:/Users/sam/Documents/Repos/PasswordSafe/nbs/changePassword.ipynb#X14sZmlsZQ%3D%3D?line=2'>3</a>\u001b[0m \u001b[39mprint\u001b[39m(x)\n",
      "File \u001b[0;32m~/opt/anaconda3/envs/LambdaSeg/lib/python3.8/site-packages/pynamodb/models.py:530\u001b[0m, in \u001b[0;36mModel.get\u001b[0;34m(cls, hash_key, range_key, consistent_read, attributes_to_get)\u001b[0m\n\u001b[1;32m    513\u001b[0m \u001b[39m@classmethod\u001b[39m\n\u001b[1;32m    514\u001b[0m \u001b[39mdef\u001b[39;00m \u001b[39mget\u001b[39m(\n\u001b[1;32m    515\u001b[0m     \u001b[39mcls\u001b[39m: Type[_T],\n\u001b[0;32m   (...)\u001b[0m\n\u001b[1;32m    519\u001b[0m     attributes_to_get: Optional[Sequence[Text]] \u001b[39m=\u001b[39m \u001b[39mNone\u001b[39;00m,\n\u001b[1;32m    520\u001b[0m ) \u001b[39m-\u001b[39m\u001b[39m>\u001b[39m _T:\n\u001b[1;32m    521\u001b[0m     \u001b[39m\"\"\"\u001b[39;00m\n\u001b[1;32m    522\u001b[0m \u001b[39m    Returns a single object using the provided keys\u001b[39;00m\n\u001b[1;32m    523\u001b[0m \n\u001b[0;32m   (...)\u001b[0m\n\u001b[1;32m    528\u001b[0m \u001b[39m    :raises ModelInstance.DoesNotExist: if the object to be updated does not exist\u001b[39;00m\n\u001b[1;32m    529\u001b[0m \u001b[39m    \"\"\"\u001b[39;00m\n\u001b[0;32m--> 530\u001b[0m     hash_key, range_key \u001b[39m=\u001b[39m \u001b[39mcls\u001b[39;49m\u001b[39m.\u001b[39;49m_serialize_keys(hash_key, range_key)\n\u001b[1;32m    532\u001b[0m     data \u001b[39m=\u001b[39m \u001b[39mcls\u001b[39m\u001b[39m.\u001b[39m_get_connection()\u001b[39m.\u001b[39mget_item(\n\u001b[1;32m    533\u001b[0m         hash_key,\n\u001b[1;32m    534\u001b[0m         range_key\u001b[39m=\u001b[39mrange_key,\n\u001b[1;32m    535\u001b[0m         consistent_read\u001b[39m=\u001b[39mconsistent_read,\n\u001b[1;32m    536\u001b[0m         attributes_to_get\u001b[39m=\u001b[39mattributes_to_get\n\u001b[1;32m    537\u001b[0m     )\n\u001b[1;32m    538\u001b[0m     \u001b[39mif\u001b[39;00m data:\n",
      "File \u001b[0;32m~/opt/anaconda3/envs/LambdaSeg/lib/python3.8/site-packages/pynamodb/models.py:1198\u001b[0m, in \u001b[0;36mModel._serialize_keys\u001b[0;34m(cls, hash_key, range_key)\u001b[0m\n\u001b[1;32m   1196\u001b[0m hash_key \u001b[39m=\u001b[39m \u001b[39mcls\u001b[39m\u001b[39m.\u001b[39m_hash_key_attribute()\u001b[39m.\u001b[39mserialize(hash_key)\n\u001b[1;32m   1197\u001b[0m \u001b[39mif\u001b[39;00m range_key \u001b[39mis\u001b[39;00m \u001b[39mnot\u001b[39;00m \u001b[39mNone\u001b[39;00m:\n\u001b[0;32m-> 1198\u001b[0m     range_key \u001b[39m=\u001b[39m \u001b[39mcls\u001b[39;49m\u001b[39m.\u001b[39;49m_range_key_attribute()\u001b[39m.\u001b[39;49mserialize(range_key)\n\u001b[1;32m   1199\u001b[0m \u001b[39mreturn\u001b[39;00m hash_key, range_key\n",
      "\u001b[0;31mAttributeError\u001b[0m: 'NoneType' object has no attribute 'serialize'"
     ]
    }
   ],
   "source": [
    "#hide\n",
    "x = Thread.get(\"sam3\")\n",
    "print(x)"
   ]
  },
  {
   "cell_type": "code",
   "execution_count": 16,
   "metadata": {},
   "outputs": [
    {
     "name": "stdout",
     "output_type": "stream",
     "text": [
      "user-password-demo-sallee-master<sam3, 77>\n"
     ]
    }
   ],
   "source": [
    "#hide\n",
    "x.passwordHash = \"77\"\n",
    "print(x)"
   ]
  },
  {
   "cell_type": "code",
   "execution_count": 17,
   "metadata": {},
   "outputs": [
    {
     "data": {
      "text/plain": [
       "{'ConsumedCapacity': {'CapacityUnits': 1.0,\n",
       "  'TableName': 'user-password-demo-sallee-master'}}"
      ]
     },
     "execution_count": 17,
     "metadata": {},
     "output_type": "execute_result"
    }
   ],
   "source": [
    "#hide\n",
    "x.save()"
   ]
  },
  {
   "cell_type": "code",
   "execution_count": null,
   "metadata": {},
   "outputs": [],
   "source": []
  }
 ],
 "metadata": {
  "kernelspec": {
   "display_name": "Python 3.8.13 ('LambdaSeg')",
   "language": "python",
   "name": "python3"
  },
  "language_info": {
   "codemirror_mode": {
    "name": "ipython",
    "version": 3
   },
   "file_extension": ".py",
   "mimetype": "text/x-python",
   "name": "python",
   "nbconvert_exporter": "python",
   "pygments_lexer": "ipython3",
   "version": "3.8.13"
  },
  "orig_nbformat": 4,
  "vscode": {
   "interpreter": {
    "hash": "e8db746a47a84e0984979cd0673a03a681bfdcab95be4575c90c7c222ec68e2c"
   }
  }
 },
 "nbformat": 4,
 "nbformat_minor": 2
}
