{
 "cells": [
  {
   "cell_type": "code",
   "execution_count": null,
   "metadata": {},
   "outputs": [],
   "source": [
    "# default_exp numberTable"
   ]
  },
  {
   "cell_type": "markdown",
   "metadata": {},
   "source": [
    "# NumberTable\n",
    "\n",
    "> PynamoDB table class for storing personal numbers"
   ]
  },
  {
   "cell_type": "code",
   "execution_count": null,
   "metadata": {},
   "outputs": [],
   "source": [
    "#export\n",
    "import os\n",
    "from pynamodb.models import Model\n",
    "from pynamodb.attributes import UnicodeAttribute, NumberAttribute"
   ]
  },
  {
   "cell_type": "code",
   "execution_count": null,
   "metadata": {},
   "outputs": [],
   "source": [
    "#hide\n",
    "os.environ[\"USERNUMBERTABLE\"] = 'user-password-demo-sallee-master'"
   ]
  },
  {
   "cell_type": "code",
   "execution_count": null,
   "metadata": {},
   "outputs": [],
   "source": [
    "#export\n",
    "################ Setting Globals from Env Vars ################\n",
    "USERNUMBERTABLE = os.environ['USERNUMBERTABLE']"
   ]
  },
  {
   "cell_type": "code",
   "execution_count": null,
   "metadata": {},
   "outputs": [],
   "source": [
    "#export\n",
    "############## Class for accessing DynamoDB #################\n",
    "class NumberTable(Model):\n",
    "    class Meta:\n",
    "        table_name = USERNUMBERTABLE\n",
    "        region = 'ap-southeast-1'\n",
    "\n",
    "    username = UnicodeAttribute(hash_key=True)\n",
    "    number = NumberAttribute()\n"
   ]
  }
 ],
 "metadata": {
  "kernelspec": {
   "display_name": "Python 3.9.6 64-bit",
   "language": "python",
   "name": "python3"
  }
 },
 "nbformat": 4,
 "nbformat_minor": 2
}
