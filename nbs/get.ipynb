{
 "cells": [
  {
   "cell_type": "code",
   "execution_count": null,
   "metadata": {},
   "outputs": [],
   "source": [
    "# default_exp get"
   ]
  },
  {
   "cell_type": "markdown",
   "metadata": {},
   "source": [
    "# get\n",
    "\n",
    "> API details."
   ]
  },
  {
   "cell_type": "code",
   "execution_count": null,
   "metadata": {},
   "outputs": [],
   "source": [
    "#export\n",
    "from awsSchema.apigateway import Response, Event\n",
    "\n",
    "from pynamodb.models import Model\n",
    "from pynamodb.attributes import UnicodeAttribute, JSONAttribute, NumberAttribute\n",
    "from copy import deepcopy"
   ]
  },
  {
   "cell_type": "code",
   "execution_count": null,
   "metadata": {},
   "outputs": [],
   "source": [
    "#export\n",
    "BUCKETNAME = 'testbucket1-check-master'\n",
    "TABLENAME = 'testtable1-check-master'\n",
    "SIMPLETABLENAME = 'testsimpletable1-check-master'"
   ]
  },
  {
   "cell_type": "code",
   "execution_count": null,
   "metadata": {},
   "outputs": [],
   "source": [
    "#export\n",
    "class SimpleTable(Model):\n",
    "  class Meta:\n",
    "      table_name = SIMPLETABLENAME\n",
    "      region = 'ap-southeast-1'\n",
    "  id = UnicodeAttribute(hash_key=True)\n",
    "  data = JSONAttribute()\n",
    "  date = NumberAttribute()\n",
    "  \n",
    "  \n",
    "  def toDict(self): \n",
    "    return {\n",
    "      'id' : self.id,\n",
    "      'data' : self.data,\n",
    "      'date' : self.date\n",
    "    }\n",
    "  \n",
    "  @classmethod\n",
    "  def fromDict(cls, dict_):\n",
    "    return cls(\n",
    "      id = dict_['id'],\n",
    "      data = dict_['data'],\n",
    "      date = dict_['date']\n",
    "    )\n",
    "  \n",
    "  def __repr__(self): return f'{self.id}\\n{self.data}\\n{self.date}'"
   ]
  },
  {
   "cell_type": "code",
   "execution_count": null,
   "metadata": {},
   "outputs": [
    {
     "data": {
      "text/plain": [
       "testObject1\n",
       "{'test': 'test'}\n",
       "123"
      ]
     },
     "execution_count": null,
     "metadata": {},
     "output_type": "execute_result"
    }
   ],
   "source": [
    "testObject = SimpleTable(id='testObject1',data = {'test':'test'}, date=123)\n",
    "testObject"
   ]
  },
  {
   "cell_type": "code",
   "execution_count": null,
   "metadata": {},
   "outputs": [
    {
     "data": {
      "text/plain": [
       "{'ConsumedCapacity': {'CapacityUnits': 1.0,\n",
       "  'TableName': 'testsimpletable1-check-master'}}"
      ]
     },
     "execution_count": null,
     "metadata": {},
     "output_type": "execute_result"
    }
   ],
   "source": [
    "testObject.save()"
   ]
  },
  {
   "cell_type": "code",
   "execution_count": null,
   "metadata": {},
   "outputs": [
    {
     "data": {
      "text/plain": [
       "[testObject\n",
       " {'test': 'test'}\n",
       " 123]"
      ]
     },
     "execution_count": null,
     "metadata": {},
     "output_type": "execute_result"
    }
   ],
   "source": [
    "list(testObject.query('testObject'))"
   ]
  },
  {
   "cell_type": "code",
   "execution_count": null,
   "metadata": {},
   "outputs": [
    {
     "data": {
      "text/plain": [
       "[testObject1\n",
       " {'test': 'test'}\n",
       " 123,\n",
       " testObject\n",
       " {'test': 'test'}\n",
       " 123]"
      ]
     },
     "execution_count": null,
     "metadata": {},
     "output_type": "execute_result"
    }
   ],
   "source": [
    "list(SimpleTable.scan())"
   ]
  },
  {
   "cell_type": "code",
   "execution_count": null,
   "metadata": {},
   "outputs": [],
   "source": [
    "#export\n",
    "\n",
    "# input is querying an object id {id: OBJECT_ID}\n",
    "def get(event, *args):\n",
    "  id_ = Event.parseQuery(deepcopy(event))['id']\n",
    "  r  = [item.toDict() for item in testObject.query('testObject')]\n",
    "  return Response.returnSuccess(body = {'objects': r})"
   ]
  },
  {
   "cell_type": "code",
   "execution_count": null,
   "metadata": {},
   "outputs": [
    {
     "data": {
      "text/plain": [
       "{'body': '{\"objects\":[{\"id\":\"testObject\",\"data\":{\"test\":\"test\"},\"date\":123}]}',\n",
       " 'statusCode': 200,\n",
       " 'headers': {'Access-Control-Allow-Headers': '*',\n",
       "  'Access-Control-Allow-Origin': '*',\n",
       "  'Access-Control-Allow-Methods': '*'}}"
      ]
     },
     "execution_count": null,
     "metadata": {},
     "output_type": "execute_result"
    }
   ],
   "source": [
    "exampleInput = {'id': \"testObject\"}\n",
    "sampleInput = Event.getInput(queryStringParameters=exampleInput)\n",
    "get(sampleInput)"
   ]
  },
  {
   "cell_type": "code",
   "execution_count": null,
   "metadata": {},
   "outputs": [],
   "source": []
  },
  {
   "cell_type": "code",
   "execution_count": null,
   "metadata": {},
   "outputs": [],
   "source": [
    "# Event.parseQuery(deepcopy(sampleInput))['id']"
   ]
  },
  {
   "cell_type": "code",
   "execution_count": null,
   "metadata": {},
   "outputs": [
    {
     "data": {
      "text/plain": [
       "{'body': '{}',\n",
       " 'httpMethod': None,\n",
       " 'multiValueHeaders': None,\n",
       " 'multiValueQueryStringParameters': None,\n",
       " 'path': None,\n",
       " 'pathParameters': None,\n",
       " 'queryStringParameters': {'id': 'testObject1'},\n",
       " 'requestContext': None,\n",
       " 'headers': {},\n",
       " 'statusCode': 200,\n",
       " 'isBase64Encoded': False}"
      ]
     },
     "execution_count": null,
     "metadata": {},
     "output_type": "execute_result"
    }
   ],
   "source": [
    "Event.parseQuery(sampleInput)\n",
    "sampleInput"
   ]
  },
  {
   "cell_type": "code",
   "execution_count": null,
   "metadata": {},
   "outputs": [],
   "source": []
  }
 ],
 "metadata": {
  "kernelspec": {
   "display_name": "python38",
   "language": "python",
   "name": "python38"
  }
 },
 "nbformat": 4,
 "nbformat_minor": 4
}
