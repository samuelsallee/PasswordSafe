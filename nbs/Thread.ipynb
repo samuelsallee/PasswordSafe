{
 "cells": [
  {
   "cell_type": "code",
   "execution_count": null,
   "metadata": {},
   "outputs": [],
   "source": [
    "# default_exp Thread"
   ]
  },
  {
   "cell_type": "markdown",
   "metadata": {},
   "source": [
    "# Thread\n",
    "\n",
    "> PynamoDB table class"
   ]
  },
  {
   "cell_type": "code",
   "execution_count": null,
   "metadata": {},
   "outputs": [],
   "source": [
    "#export\n",
    "import os\n",
    "from pynamodb.models import Model\n",
    "from pynamodb.attributes import UnicodeAttribute"
   ]
  },
  {
   "cell_type": "code",
   "execution_count": null,
   "metadata": {},
   "outputs": [],
   "source": [
    "#hide\n",
    "os.environ[\"USERPASSWORDTABLE\"] = 'user-password-demo-sallee-master'"
   ]
  },
  {
   "cell_type": "code",
   "execution_count": null,
   "metadata": {},
   "outputs": [],
   "source": [
    "#export\n",
    "################ Setting Globals from Env Vars ################\n",
    "USERPASSWORDTABLE = os.environ['USERPASSWORDTABLE']"
   ]
  },
  {
   "cell_type": "code",
   "execution_count": null,
   "metadata": {},
   "outputs": [],
   "source": [
    "#export\n",
    "############## Class for accessing DynamoDB #################\n",
    "class Thread(Model):\n",
    "    class Meta:\n",
    "        table_name = USERPASSWORDTABLE\n",
    "        region = 'ap-southeast-1'\n",
    "\n",
    "    username = UnicodeAttribute(hash_key=True, attr_name='username')\n",
    "    passwordHash = UnicodeAttribute(attr_name='passwordHash')\n",
    "    salt = UnicodeAttribute(attr_name='salt')\n",
    "    hashAndSalt = UnicodeAttribute(attr_name='hashAndSalt')\n",
    "\n"
   ]
  }
 ],
 "metadata": {
  "kernelspec": {
   "display_name": "Python 3.8.13 ('LambdaSeg')",
   "language": "python",
   "name": "python3"
  },
  "language_info": {
   "name": "python",
   "version": "3.8.13"
  },
  "orig_nbformat": 4,
  "vscode": {
   "interpreter": {
    "hash": "e8db746a47a84e0984979cd0673a03a681bfdcab95be4575c90c7c222ec68e2c"
   }
  }
 },
 "nbformat": 4,
 "nbformat_minor": 2
}
