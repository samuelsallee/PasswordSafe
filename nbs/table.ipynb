{
 "cells": [
  {
   "cell_type": "code",
   "execution_count": null,
   "metadata": {},
   "outputs": [],
   "source": [
    "# default_exp table"
   ]
  },
  {
   "cell_type": "markdown",
   "metadata": {},
   "source": [
    "# Table\n",
    "\n",
    "> API details."
   ]
  },
  {
   "cell_type": "code",
   "execution_count": null,
   "metadata": {},
   "outputs": [],
   "source": [
    "#hide\n",
    "import src.setEnv"
   ]
  },
  {
   "cell_type": "code",
   "execution_count": null,
   "metadata": {},
   "outputs": [],
   "source": [
    "#hide\n",
    "import boto3\n",
    "boto3.setup_default_session(profile_name='tenxor')"
   ]
  },
  {
   "cell_type": "code",
   "execution_count": null,
   "metadata": {},
   "outputs": [],
   "source": [
    "#export\n",
    "from pynamodb.models import Model\n",
    "from pynamodb.attributes import UnicodeAttribute, JSONAttribute, NumberAttribute\n",
    "from src.getEnv import SIMPLETABLENAME"
   ]
  },
  {
   "cell_type": "code",
   "execution_count": null,
   "metadata": {},
   "outputs": [],
   "source": []
  },
  {
   "cell_type": "code",
   "execution_count": null,
   "metadata": {},
   "outputs": [],
   "source": [
    "#export\n",
    "class SimpleTable(Model):\n",
    "  class Meta:\n",
    "      table_name = SIMPLETABLENAME \n",
    "      region = 'ap-southeast-1'\n",
    "  id = UnicodeAttribute(hash_key=True)\n",
    "  data = JSONAttribute()\n",
    "  date = NumberAttribute()\n",
    "  \n",
    "  \n",
    "  def toDict(self): \n",
    "    return {\n",
    "      'id' : self.id,\n",
    "      'data' : self.data,\n",
    "      'date' : self.date\n",
    "    }\n",
    "  \n",
    "  @classmethod\n",
    "  def fromDict(cls, dict_):\n",
    "    return cls(\n",
    "      id = dict_['id'],\n",
    "      data = dict_['data'],\n",
    "      date = dict_['date']\n",
    "    )\n",
    "  \n",
    "  def __repr__(self): return f'{self.id}\\n{self.data}\\n{self.date}'"
   ]
  },
  {
   "cell_type": "code",
   "execution_count": null,
   "metadata": {},
   "outputs": [],
   "source": [
    "SimpleTable.create_table(billing_mode='PAY_PER_REQUEST')"
   ]
  },
  {
   "cell_type": "code",
   "execution_count": null,
   "metadata": {},
   "outputs": [
    {
     "data": {
      "text/plain": [
       "testObject1\n",
       "{'test': 'test'}\n",
       "123"
      ]
     },
     "execution_count": null,
     "metadata": {},
     "output_type": "execute_result"
    }
   ],
   "source": [
    "testObject = SimpleTable(id='testObject1',data = {'test':'test'}, date=123)\n",
    "testObject"
   ]
  },
  {
   "cell_type": "code",
   "execution_count": null,
   "metadata": {},
   "outputs": [
    {
     "data": {
      "text/plain": [
       "{'ConsumedCapacity': {'CapacityUnits': 1.0,\n",
       "  'TableName': 'testsimpletable1-check-master'}}"
      ]
     },
     "execution_count": null,
     "metadata": {},
     "output_type": "execute_result"
    }
   ],
   "source": [
    "testObject.save()"
   ]
  },
  {
   "cell_type": "code",
   "execution_count": null,
   "metadata": {},
   "outputs": [],
   "source": []
  },
  {
   "cell_type": "code",
   "execution_count": null,
   "metadata": {},
   "outputs": [],
   "source": []
  },
  {
   "cell_type": "code",
   "execution_count": null,
   "metadata": {},
   "outputs": [],
   "source": []
  }
 ],
 "metadata": {
  "kernelspec": {
   "display_name": "python38",
   "language": "python",
   "name": "python38"
  }
 },
 "nbformat": 4,
 "nbformat_minor": 4
}
