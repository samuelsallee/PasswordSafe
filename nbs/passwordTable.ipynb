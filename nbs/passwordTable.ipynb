{
 "cells": [
  {
   "cell_type": "code",
   "execution_count": null,
   "metadata": {},
   "outputs": [],
   "source": [
    "# default_exp passwordTable"
   ]
  },
  {
   "cell_type": "markdown",
   "metadata": {},
   "source": [
    "# passwordTable\n",
    "\n",
    "> PynamoDB table class for storing passwords"
   ]
  },
  {
   "cell_type": "code",
   "execution_count": null,
   "metadata": {},
   "outputs": [],
   "source": [
    "#export\n",
    "import os\n",
    "from pynamodb.models import Model\n",
    "from pynamodb.attributes import UnicodeAttribute"
   ]
  },
  {
   "cell_type": "code",
   "execution_count": null,
   "metadata": {},
   "outputs": [],
   "source": [
    "#hide\n",
    "os.environ[\"USERPASSWORDTABLE\"] = 'user-password-demo-sallee-master'"
   ]
  },
  {
   "cell_type": "code",
   "execution_count": null,
   "metadata": {},
   "outputs": [],
   "source": [
    "#export\n",
    "################ Setting Globals from Env Vars ################\n",
    "USERPASSWORDTABLE = os.environ.get('USERPASSWORDTABLE', 'user-password-demo-sallee-master')"
   ]
  },
  {
   "cell_type": "code",
   "execution_count": null,
   "metadata": {},
   "outputs": [],
   "source": [
    "#export\n",
    "############## Class for accessing DynamoDB #################\n",
    "class PasswordTable(Model):\n",
    "    class Meta:\n",
    "        table_name = USERPASSWORDTABLE\n",
    "        region = 'ap-southeast-1'\n",
    "\n",
    "    username = UnicodeAttribute(hash_key=True)\n",
    "    passwordHash = UnicodeAttribute()\n",
    "    salt = UnicodeAttribute()\n",
    "    hashAndSalt = UnicodeAttribute()\n",
    "\n"
   ]
  }
 ],
 "metadata": {
  "kernelspec": {
   "display_name": "Python 3.8.13 ('LambdaSeg')",
   "language": "python",
   "name": "python3"
  }
 },
 "nbformat": 4,
 "nbformat_minor": 2
}
