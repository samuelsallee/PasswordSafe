{
 "cells": [
  {
   "cell_type": "code",
   "execution_count": null,
   "metadata": {},
   "outputs": [],
   "source": [
    "# default_exp passwordHelper"
   ]
  },
  {
   "cell_type": "markdown",
   "metadata": {},
   "source": [
    "# passwordHelper\n",
    "\n",
    "> password helper\n",
    "create and check password"
   ]
  },
  {
   "cell_type": "code",
   "execution_count": null,
   "metadata": {},
   "outputs": [],
   "source": [
    "#export\n",
    "import uuid\n",
    "import hashlib\n",
    " \n",
    "def hashPassword(password):\n",
    "    # uuid is used to generate a random number\n",
    "    salt = uuid.uuid4().hex\n",
    "    return hashlib.sha256(salt.encode() + password.encode()).hexdigest() + ':' + salt\n",
    "    \n",
    "def checkPassword(hashed_password, user_password):\n",
    "    password, salt = hashed_password.split(':')\n",
    "    return password == hashlib.sha256(salt.encode() + user_password.encode()).hexdigest()"
   ]
  },
  {
   "cell_type": "code",
   "execution_count": null,
   "metadata": {},
   "outputs": [
    {
     "name": "stdout",
     "output_type": "stream",
     "text": [
      "5d9d8c2d0753c13e5a86e8411710c587baf23622cd6ae09305cd19822b253190:c15585bd867b47b2a69860bfbcf997f3\n",
      "True\n",
      "False\n"
     ]
    }
   ],
   "source": [
    "hashedPw = hash_password('123')\n",
    "print(hashedPw)\n",
    "r = check_password(hashedPw, '123')\n",
    "print(r)\n",
    "r = check_password(hashedPw, '1234')\n",
    "print(r)"
   ]
  },
  {
   "cell_type": "code",
   "execution_count": null,
   "metadata": {},
   "outputs": [],
   "source": []
  }
 ],
 "metadata": {
  "kernelspec": {
   "display_name": "python38",
   "language": "python",
   "name": "python38"
  }
 },
 "nbformat": 4,
 "nbformat_minor": 4
}
