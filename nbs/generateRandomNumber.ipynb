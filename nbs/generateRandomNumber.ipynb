{
 "cells": [
  {
   "cell_type": "code",
   "execution_count": null,
   "metadata": {},
   "outputs": [],
   "source": [
    "# default_exp generateRandomNumber"
   ]
  },
  {
   "cell_type": "markdown",
   "metadata": {},
   "source": [
    "# generateRandomNumber\n",
    "> generates a new number for the user if not already set"
   ]
  },
  {
   "cell_type": "code",
   "execution_count": null,
   "metadata": {},
   "outputs": [
    {
     "ename": "KeyError",
     "evalue": "'USERNUMBERTABLE'",
     "output_type": "error",
     "traceback": [
      "\u001b[0;31m---------------------------------------------------------------------------\u001b[0m",
      "\u001b[0;31mKeyError\u001b[0m                                  Traceback (most recent call last)",
      "\u001b[1;32m/Users/sam/Documents/Repos/PasswordSafe/nbs/generateRandomNumber.ipynb Cell 3\u001b[0m in \u001b[0;36m<cell line: 5>\u001b[0;34m()\u001b[0m\n\u001b[1;32m      <a href='vscode-notebook-cell:/Users/sam/Documents/Repos/PasswordSafe/nbs/generateRandomNumber.ipynb#X20sZmlsZQ%3D%3D?line=2'>3</a>\u001b[0m \u001b[39mimport\u001b[39;00m \u001b[39mujson\u001b[39;00m \u001b[39mas\u001b[39;00m \u001b[39mjson\u001b[39;00m\n\u001b[1;32m      <a href='vscode-notebook-cell:/Users/sam/Documents/Repos/PasswordSafe/nbs/generateRandomNumber.ipynb#X20sZmlsZQ%3D%3D?line=3'>4</a>\u001b[0m \u001b[39mfrom\u001b[39;00m \u001b[39mawsSchema\u001b[39;00m\u001b[39m.\u001b[39;00m\u001b[39mapigateway\u001b[39;00m \u001b[39mimport\u001b[39;00m Event,Response\n\u001b[0;32m----> <a href='vscode-notebook-cell:/Users/sam/Documents/Repos/PasswordSafe/nbs/generateRandomNumber.ipynb#X20sZmlsZQ%3D%3D?line=4'>5</a>\u001b[0m \u001b[39mfrom\u001b[39;00m \u001b[39msrc\u001b[39;00m\u001b[39m.\u001b[39;00m\u001b[39mnumberTable\u001b[39;00m \u001b[39mimport\u001b[39;00m NumberTable\n\u001b[1;32m      <a href='vscode-notebook-cell:/Users/sam/Documents/Repos/PasswordSafe/nbs/generateRandomNumber.ipynb#X20sZmlsZQ%3D%3D?line=5'>6</a>\u001b[0m \u001b[39mfrom\u001b[39;00m \u001b[39mbeartype\u001b[39;00m \u001b[39mimport\u001b[39;00m beartype\n\u001b[1;32m      <a href='vscode-notebook-cell:/Users/sam/Documents/Repos/PasswordSafe/nbs/generateRandomNumber.ipynb#X20sZmlsZQ%3D%3D?line=6'>7</a>\u001b[0m \u001b[39mfrom\u001b[39;00m \u001b[39mcopy\u001b[39;00m \u001b[39mimport\u001b[39;00m deepcopy\n",
      "File \u001b[0;32m~/Documents/Repos/PasswordSafe/nbs/src/numberTable.py:12\u001b[0m, in \u001b[0;36m<module>\u001b[0;34m\u001b[0m\n\u001b[1;32m      8\u001b[0m \u001b[39mfrom\u001b[39;00m \u001b[39mpynamodb\u001b[39;00m\u001b[39m.\u001b[39;00m\u001b[39mattributes\u001b[39;00m \u001b[39mimport\u001b[39;00m UnicodeAttribute, NumberAttribute\n\u001b[1;32m     10\u001b[0m \u001b[39m# Cell\u001b[39;00m\n\u001b[1;32m     11\u001b[0m \u001b[39m################ Setting Globals from Env Vars ################\u001b[39;00m\n\u001b[0;32m---> 12\u001b[0m USERNUMBERTABLE \u001b[39m=\u001b[39m os\u001b[39m.\u001b[39;49menviron[\u001b[39m'\u001b[39;49m\u001b[39mUSERNUMBERTABLE\u001b[39;49m\u001b[39m'\u001b[39;49m]\n\u001b[1;32m     14\u001b[0m \u001b[39m# Cell\u001b[39;00m\n\u001b[1;32m     15\u001b[0m \u001b[39m############## Class for accessing DynamoDB #################\u001b[39;00m\n\u001b[1;32m     16\u001b[0m \u001b[39mclass\u001b[39;00m \u001b[39mNumberTable\u001b[39;00m(Model):\n",
      "File \u001b[0;32m~/opt/anaconda3/envs/LambdaSeg/lib/python3.8/os.py:675\u001b[0m, in \u001b[0;36m_Environ.__getitem__\u001b[0;34m(self, key)\u001b[0m\n\u001b[1;32m    672\u001b[0m     value \u001b[39m=\u001b[39m \u001b[39mself\u001b[39m\u001b[39m.\u001b[39m_data[\u001b[39mself\u001b[39m\u001b[39m.\u001b[39mencodekey(key)]\n\u001b[1;32m    673\u001b[0m \u001b[39mexcept\u001b[39;00m \u001b[39mKeyError\u001b[39;00m:\n\u001b[1;32m    674\u001b[0m     \u001b[39m# raise KeyError with the original key value\u001b[39;00m\n\u001b[0;32m--> 675\u001b[0m     \u001b[39mraise\u001b[39;00m \u001b[39mKeyError\u001b[39;00m(key) \u001b[39mfrom\u001b[39;00m \u001b[39mNone\u001b[39m\n\u001b[1;32m    676\u001b[0m \u001b[39mreturn\u001b[39;00m \u001b[39mself\u001b[39m\u001b[39m.\u001b[39mdecodevalue(value)\n",
      "\u001b[0;31mKeyError\u001b[0m: 'USERNUMBERTABLE'"
     ]
    }
   ],
   "source": [
    "#export\n",
    "import os, logging, sys, requests\n",
    "import ujson as json\n",
    "from awsSchema.apigateway import Event,Response\n",
    "from src.numberTable import NumberTable\n",
    "from beartype import beartype\n",
    "from copy import deepcopy"
   ]
  },
  {
   "cell_type": "code",
   "execution_count": null,
   "metadata": {},
   "outputs": [],
   "source": [
    "#export\n",
    "############### Logger for debugging code ##################\n",
    "logger = logging.getLogger(__name__)\n",
    "logger.setLevel(logging.DEBUG)\n",
    "logger.addHandler(logging.StreamHandler(sys.stdout))"
   ]
  },
  {
   "cell_type": "code",
   "execution_count": null,
   "metadata": {},
   "outputs": [],
   "source": [
    "#export\n",
    "###################### Error Definitions ######################\n",
    "class HelperError(Exception): pass\n",
    "class ParseInputError(HelperError): pass\n",
    "class CheckDatabaseError(HelperError): pass\n",
    "class CreateTableError(HelperError): pass\n",
    "class QueryDatabaseError(HelperError): pass\n",
    "class APIError(Exception): pass"
   ]
  },
  {
   "cell_type": "code",
   "execution_count": null,
   "metadata": {},
   "outputs": [],
   "source": [
    "#hide\n",
    "os.environ['USERNUMBERTABLE'] = 'user-number-table-sallee-master'"
   ]
  },
  {
   "cell_type": "code",
   "execution_count": null,
   "metadata": {},
   "outputs": [],
   "source": [
    "#export\n",
    "################ Setting Globals from Env Vars ################\n",
    "USERNUMBERTABLE = os.environ.get('USERNUMBERTABLE', 'user-number-table-sallee-master')"
   ]
  },
  {
   "cell_type": "code",
   "execution_count": null,
   "metadata": {},
   "outputs": [
    {
     "ename": "NameError",
     "evalue": "name 'beartype' is not defined",
     "output_type": "error",
     "traceback": [
      "\u001b[0;31m---------------------------------------------------------------------------\u001b[0m",
      "\u001b[0;31mNameError\u001b[0m                                 Traceback (most recent call last)",
      "\u001b[1;32m/Users/sam/Documents/Repos/PasswordSafe/nbs/generateRandomNumber.ipynb Cell 8\u001b[0m in \u001b[0;36m<cell line: 4>\u001b[0;34m()\u001b[0m\n\u001b[1;32m      <a href='vscode-notebook-cell:/Users/sam/Documents/Repos/PasswordSafe/nbs/generateRandomNumber.ipynb#X15sZmlsZQ%3D%3D?line=0'>1</a>\u001b[0m \u001b[39m#export\u001b[39;00m\n\u001b[1;32m      <a href='vscode-notebook-cell:/Users/sam/Documents/Repos/PasswordSafe/nbs/generateRandomNumber.ipynb#X15sZmlsZQ%3D%3D?line=1'>2</a>\u001b[0m \u001b[39m########## Helper class for main function ##########\u001b[39;00m\n\u001b[1;32m      <a href='vscode-notebook-cell:/Users/sam/Documents/Repos/PasswordSafe/nbs/generateRandomNumber.ipynb#X15sZmlsZQ%3D%3D?line=2'>3</a>\u001b[0m EventInput \u001b[39m=\u001b[39m \u001b[39mdict\u001b[39m\n\u001b[0;32m----> <a href='vscode-notebook-cell:/Users/sam/Documents/Repos/PasswordSafe/nbs/generateRandomNumber.ipynb#X15sZmlsZQ%3D%3D?line=3'>4</a>\u001b[0m \u001b[39mclass\u001b[39;00m \u001b[39mH\u001b[39;00m:\n\u001b[1;32m      <a href='vscode-notebook-cell:/Users/sam/Documents/Repos/PasswordSafe/nbs/generateRandomNumber.ipynb#X15sZmlsZQ%3D%3D?line=5'>6</a>\u001b[0m     randNumUrl \u001b[39m=\u001b[39m \u001b[39m'\u001b[39m\u001b[39mhttps://www.random.org/integers/?num=1&min=0&max=1000&col=1&base=10&format=plain&rnd=new\u001b[39m\u001b[39m'\u001b[39m\n\u001b[1;32m      <a href='vscode-notebook-cell:/Users/sam/Documents/Repos/PasswordSafe/nbs/generateRandomNumber.ipynb#X15sZmlsZQ%3D%3D?line=7'>8</a>\u001b[0m     \u001b[39m@staticmethod\u001b[39m\n\u001b[1;32m      <a href='vscode-notebook-cell:/Users/sam/Documents/Repos/PasswordSafe/nbs/generateRandomNumber.ipynb#X15sZmlsZQ%3D%3D?line=8'>9</a>\u001b[0m     \u001b[39m@beartype\u001b[39m\n\u001b[1;32m     <a href='vscode-notebook-cell:/Users/sam/Documents/Repos/PasswordSafe/nbs/generateRandomNumber.ipynb#X15sZmlsZQ%3D%3D?line=9'>10</a>\u001b[0m     \u001b[39mdef\u001b[39;00m \u001b[39mparseInput\u001b[39m(event: EventInput) \u001b[39m-\u001b[39m\u001b[39m>\u001b[39m \u001b[39mstr\u001b[39m:\n",
      "\u001b[1;32m/Users/sam/Documents/Repos/PasswordSafe/nbs/generateRandomNumber.ipynb Cell 8\u001b[0m in \u001b[0;36mH\u001b[0;34m()\u001b[0m\n\u001b[1;32m      <a href='vscode-notebook-cell:/Users/sam/Documents/Repos/PasswordSafe/nbs/generateRandomNumber.ipynb#X15sZmlsZQ%3D%3D?line=3'>4</a>\u001b[0m \u001b[39mclass\u001b[39;00m \u001b[39mH\u001b[39;00m:\n\u001b[1;32m      <a href='vscode-notebook-cell:/Users/sam/Documents/Repos/PasswordSafe/nbs/generateRandomNumber.ipynb#X15sZmlsZQ%3D%3D?line=5'>6</a>\u001b[0m     randNumUrl \u001b[39m=\u001b[39m \u001b[39m'\u001b[39m\u001b[39mhttps://www.random.org/integers/?num=1&min=0&max=1000&col=1&base=10&format=plain&rnd=new\u001b[39m\u001b[39m'\u001b[39m\n\u001b[1;32m      <a href='vscode-notebook-cell:/Users/sam/Documents/Repos/PasswordSafe/nbs/generateRandomNumber.ipynb#X15sZmlsZQ%3D%3D?line=7'>8</a>\u001b[0m     \u001b[39m@staticmethod\u001b[39m\n\u001b[0;32m----> <a href='vscode-notebook-cell:/Users/sam/Documents/Repos/PasswordSafe/nbs/generateRandomNumber.ipynb#X15sZmlsZQ%3D%3D?line=8'>9</a>\u001b[0m     \u001b[39m@beartype\u001b[39m\n\u001b[1;32m     <a href='vscode-notebook-cell:/Users/sam/Documents/Repos/PasswordSafe/nbs/generateRandomNumber.ipynb#X15sZmlsZQ%3D%3D?line=9'>10</a>\u001b[0m     \u001b[39mdef\u001b[39;00m \u001b[39mparseInput\u001b[39m(event: EventInput) \u001b[39m-\u001b[39m\u001b[39m>\u001b[39m \u001b[39mstr\u001b[39m:\n\u001b[1;32m     <a href='vscode-notebook-cell:/Users/sam/Documents/Repos/PasswordSafe/nbs/generateRandomNumber.ipynb#X15sZmlsZQ%3D%3D?line=10'>11</a>\u001b[0m         \u001b[39m'''\u001b[39;00m\n\u001b[1;32m     <a href='vscode-notebook-cell:/Users/sam/Documents/Repos/PasswordSafe/nbs/generateRandomNumber.ipynb#X15sZmlsZQ%3D%3D?line=11'>12</a>\u001b[0m \u001b[39m        returns username and password arguments from input\u001b[39;00m\n\u001b[1;32m     <a href='vscode-notebook-cell:/Users/sam/Documents/Repos/PasswordSafe/nbs/generateRandomNumber.ipynb#X15sZmlsZQ%3D%3D?line=12'>13</a>\u001b[0m \u001b[39m        '''\u001b[39;00m\n\u001b[1;32m     <a href='vscode-notebook-cell:/Users/sam/Documents/Repos/PasswordSafe/nbs/generateRandomNumber.ipynb#X15sZmlsZQ%3D%3D?line=13'>14</a>\u001b[0m         body \u001b[39m=\u001b[39m Event\u001b[39m.\u001b[39mparseBody(deepcopy(event))\n",
      "\u001b[0;31mNameError\u001b[0m: name 'beartype' is not defined"
     ]
    }
   ],
   "source": [
    "#export\n",
    "########## Helper class for main function ##########\n",
    "EventInput = dict\n",
    "class H:\n",
    "\n",
    "    randNumUrl = 'https://www.random.org/integers/?num=1&min=0&max=1000&col=1&base=10&format=plain&rnd=new'\n",
    "        \n",
    "    @staticmethod\n",
    "    @beartype\n",
    "    def parseInput(event: EventInput) -> str:\n",
    "        '''\n",
    "        returns username and password arguments from input\n",
    "        '''\n",
    "        body = Event.parseBody(deepcopy(event))\n",
    "        logger.info(f'Event :: {body}')\n",
    "        try:\n",
    "            username = body['username']\n",
    "        except KeyError:\n",
    "            logger.error('username is not in body')\n",
    "            raise ParseInputError('username is not in body')\n",
    "\n",
    "        return username\n",
    "    \n",
    "    @staticmethod\n",
    "    @beartype\n",
    "    def usernameInDatabase(username: str) -> bool:\n",
    "        try:\n",
    "            queryResult = NumberTable.query(username)\n",
    "            listResult = [row for row in queryResult]\n",
    "            if len(listResult) != 1:\n",
    "                return False\n",
    "            return True\n",
    "        except Exception as e:\n",
    "            logger.error(f'Unable to check whether or not the username is in the database:\\n{e}')\n",
    "            raise CheckDatabaseError(f'Unable to check whether or not the username is in the database:\\n{e}')\n",
    "    \n",
    "    @staticmethod\n",
    "    @beartype\n",
    "    def getNumber(username: str):\n",
    "        try:\n",
    "            user = queryResult = NumberTable.query(username)\n",
    "        except Exception as e:\n",
    "            logger.error(f'Unable to query database\\n{e}')\n",
    "            raise QueryDatabaseError(f'Unable to query database\\n{e}')\n",
    "        \n",
    "        try:\n",
    "            for u in user:\n",
    "                return u.number\n",
    "        except Exception as e:\n",
    "            logger.error(f\"User has no number:\\n{e}\")\n",
    "            raise QueryDatabaseError(f\"User has no number:\\n{e}\")"
   ]
  },
  {
   "cell_type": "code",
   "execution_count": null,
   "metadata": {},
   "outputs": [],
   "source": [
    "#export\n",
    "############################## Main Function ###############################\n",
    "def generateRandomNumber(event, *args):\n",
    "    try:\n",
    "        username = H.parseInput(event)\n",
    "        if H.usernameInDatabase(username):\n",
    "            userNumber = H.getNumber(username)\n",
    "            output = {'success': True, 'age' : 'old', 'number' : int(userNumber)}\n",
    "            return Response.returnSuccess(body=output)\n",
    "\n",
    "        resp = requests.get(url=H.randNumUrl)\n",
    "        if resp.status_code > 399:\n",
    "            raise APIError(f\"{resp.status_code} : {resp.content}\")\n",
    "        threadItem = NumberTable(username=deepcopy(username), number=json.loads(resp.content))\n",
    "        threadItem.save()\n",
    "        output = {'success' : True, 'age' : 'new', 'number' : json.loads(resp.content)}\n",
    "        return Response.returnSuccess(body=output)\n",
    "\n",
    "    except Exception as e:\n",
    "        output = {'success' : False}\n",
    "        return Response.returnError(f\"Oops ... Something went wrong {e}\", body=output)"
   ]
  },
  {
   "cell_type": "code",
   "execution_count": null,
   "metadata": {},
   "outputs": [],
   "source": []
  }
 ],
 "metadata": {
  "kernelspec": {
   "display_name": "Python 3.8.13 ('LambdaSeg')",
   "language": "python",
   "name": "python3"
  }
 },
 "nbformat": 4,
 "nbformat_minor": 2
}
