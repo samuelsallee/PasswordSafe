{
 "cells": [
  {
   "cell_type": "code",
   "execution_count": null,
   "metadata": {},
   "outputs": [],
   "source": [
    "# default_exp generateRandomNumber"
   ]
  },
  {
   "cell_type": "markdown",
   "metadata": {},
   "source": [
    "# generateRandomNumber\n",
    "> generates a new number for the user if not already set"
   ]
  },
  {
   "cell_type": "code",
   "execution_count": null,
   "metadata": {},
   "outputs": [],
   "source": [
    "#export\n",
    "import os, logging, sys, requests\n",
    "import ujson as json\n",
    "from awsSchema.apigateway import Event,Response\n",
    "from src.NumberTable import NumberTable\n",
    "from beartype import beartype\n",
    "from copy import deepcopy"
   ]
  },
  {
   "cell_type": "code",
   "execution_count": null,
   "metadata": {},
   "outputs": [],
   "source": [
    "#export\n",
    "############### Logger for debugging code ##################\n",
    "logger = logging.getLogger(__name__)\n",
    "logger.setLevel(logging.DEBUG)\n",
    "logger.addHandler(logging.StreamHandler(sys.stdout))"
   ]
  },
  {
   "cell_type": "code",
   "execution_count": null,
   "metadata": {},
   "outputs": [],
   "source": [
    "#export\n",
    "###################### Error Definitions ######################\n",
    "class HelperError(Exception): pass\n",
    "class ParseInputError(HelperError): pass\n",
    "class CheckDatabaseError(HelperError): pass\n",
    "class CreateTableError(HelperError): pass\n",
    "class QueryDatabaseError(HelperError): pass"
   ]
  },
  {
   "cell_type": "code",
   "execution_count": null,
   "metadata": {},
   "outputs": [],
   "source": [
    "#hide\n",
    "os.environ['USERNUMBERTABLE'] = 'user-number-table-sallee-master'"
   ]
  },
  {
   "cell_type": "code",
   "execution_count": null,
   "metadata": {},
   "outputs": [],
   "source": [
    "#export\n",
    "################ Setting Globals from Env Vars ################\n",
    "USERNUMBERTABLE = os.environ['USERNUMBERTABLE']"
   ]
  },
  {
   "cell_type": "code",
   "execution_count": 1,
   "metadata": {},
   "outputs": [
    {
     "ename": "NameError",
     "evalue": "name 'beartype' is not defined",
     "output_type": "error",
     "traceback": [
      "\u001b[0;31m---------------------------------------------------------------------------\u001b[0m",
      "\u001b[0;31mNameError\u001b[0m                                 Traceback (most recent call last)",
      "\u001b[1;32m/Users/sam/Documents/Repos/PasswordSafe/nbs/generateRandomNumber.ipynb Cell 8\u001b[0m in \u001b[0;36m<cell line: 4>\u001b[0;34m()\u001b[0m\n\u001b[1;32m      <a href='vscode-notebook-cell:/Users/sam/Documents/Repos/PasswordSafe/nbs/generateRandomNumber.ipynb#X10sZmlsZQ%3D%3D?line=0'>1</a>\u001b[0m \u001b[39m#export\u001b[39;00m\n\u001b[1;32m      <a href='vscode-notebook-cell:/Users/sam/Documents/Repos/PasswordSafe/nbs/generateRandomNumber.ipynb#X10sZmlsZQ%3D%3D?line=1'>2</a>\u001b[0m \u001b[39m########## Helper class for main function ##########\u001b[39;00m\n\u001b[1;32m      <a href='vscode-notebook-cell:/Users/sam/Documents/Repos/PasswordSafe/nbs/generateRandomNumber.ipynb#X10sZmlsZQ%3D%3D?line=2'>3</a>\u001b[0m EventInput \u001b[39m=\u001b[39m \u001b[39mdict\u001b[39m\n\u001b[0;32m----> <a href='vscode-notebook-cell:/Users/sam/Documents/Repos/PasswordSafe/nbs/generateRandomNumber.ipynb#X10sZmlsZQ%3D%3D?line=3'>4</a>\u001b[0m \u001b[39mclass\u001b[39;00m \u001b[39mH\u001b[39;00m:\n\u001b[1;32m      <a href='vscode-notebook-cell:/Users/sam/Documents/Repos/PasswordSafe/nbs/generateRandomNumber.ipynb#X10sZmlsZQ%3D%3D?line=5'>6</a>\u001b[0m     \u001b[39m@staticmethod\u001b[39m\n\u001b[1;32m      <a href='vscode-notebook-cell:/Users/sam/Documents/Repos/PasswordSafe/nbs/generateRandomNumber.ipynb#X10sZmlsZQ%3D%3D?line=6'>7</a>\u001b[0m     \u001b[39m@beartype\u001b[39m\n\u001b[1;32m      <a href='vscode-notebook-cell:/Users/sam/Documents/Repos/PasswordSafe/nbs/generateRandomNumber.ipynb#X10sZmlsZQ%3D%3D?line=7'>8</a>\u001b[0m     \u001b[39mdef\u001b[39;00m \u001b[39mparseInput\u001b[39m(event: EventInput) \u001b[39m-\u001b[39m\u001b[39m>\u001b[39m \u001b[39mstr\u001b[39m:\n\u001b[1;32m      <a href='vscode-notebook-cell:/Users/sam/Documents/Repos/PasswordSafe/nbs/generateRandomNumber.ipynb#X10sZmlsZQ%3D%3D?line=8'>9</a>\u001b[0m         \u001b[39m'''\u001b[39;00m\n\u001b[1;32m     <a href='vscode-notebook-cell:/Users/sam/Documents/Repos/PasswordSafe/nbs/generateRandomNumber.ipynb#X10sZmlsZQ%3D%3D?line=9'>10</a>\u001b[0m \u001b[39m        returns username and password arguments from input\u001b[39;00m\n\u001b[1;32m     <a href='vscode-notebook-cell:/Users/sam/Documents/Repos/PasswordSafe/nbs/generateRandomNumber.ipynb#X10sZmlsZQ%3D%3D?line=10'>11</a>\u001b[0m \u001b[39m        '''\u001b[39;00m\n",
      "\u001b[1;32m/Users/sam/Documents/Repos/PasswordSafe/nbs/generateRandomNumber.ipynb Cell 8\u001b[0m in \u001b[0;36mH\u001b[0;34m()\u001b[0m\n\u001b[1;32m      <a href='vscode-notebook-cell:/Users/sam/Documents/Repos/PasswordSafe/nbs/generateRandomNumber.ipynb#X10sZmlsZQ%3D%3D?line=3'>4</a>\u001b[0m \u001b[39mclass\u001b[39;00m \u001b[39mH\u001b[39;00m:\n\u001b[1;32m      <a href='vscode-notebook-cell:/Users/sam/Documents/Repos/PasswordSafe/nbs/generateRandomNumber.ipynb#X10sZmlsZQ%3D%3D?line=5'>6</a>\u001b[0m     \u001b[39m@staticmethod\u001b[39m\n\u001b[0;32m----> <a href='vscode-notebook-cell:/Users/sam/Documents/Repos/PasswordSafe/nbs/generateRandomNumber.ipynb#X10sZmlsZQ%3D%3D?line=6'>7</a>\u001b[0m     \u001b[39m@beartype\u001b[39m\n\u001b[1;32m      <a href='vscode-notebook-cell:/Users/sam/Documents/Repos/PasswordSafe/nbs/generateRandomNumber.ipynb#X10sZmlsZQ%3D%3D?line=7'>8</a>\u001b[0m     \u001b[39mdef\u001b[39;00m \u001b[39mparseInput\u001b[39m(event: EventInput) \u001b[39m-\u001b[39m\u001b[39m>\u001b[39m \u001b[39mstr\u001b[39m:\n\u001b[1;32m      <a href='vscode-notebook-cell:/Users/sam/Documents/Repos/PasswordSafe/nbs/generateRandomNumber.ipynb#X10sZmlsZQ%3D%3D?line=8'>9</a>\u001b[0m         \u001b[39m'''\u001b[39;00m\n\u001b[1;32m     <a href='vscode-notebook-cell:/Users/sam/Documents/Repos/PasswordSafe/nbs/generateRandomNumber.ipynb#X10sZmlsZQ%3D%3D?line=9'>10</a>\u001b[0m \u001b[39m        returns username and password arguments from input\u001b[39;00m\n\u001b[1;32m     <a href='vscode-notebook-cell:/Users/sam/Documents/Repos/PasswordSafe/nbs/generateRandomNumber.ipynb#X10sZmlsZQ%3D%3D?line=10'>11</a>\u001b[0m \u001b[39m        '''\u001b[39;00m\n\u001b[1;32m     <a href='vscode-notebook-cell:/Users/sam/Documents/Repos/PasswordSafe/nbs/generateRandomNumber.ipynb#X10sZmlsZQ%3D%3D?line=11'>12</a>\u001b[0m         body \u001b[39m=\u001b[39m Event\u001b[39m.\u001b[39mparseBody(deepcopy(event))\n",
      "\u001b[0;31mNameError\u001b[0m: name 'beartype' is not defined"
     ]
    }
   ],
   "source": [
    "#export\n",
    "########## Helper class for main function ##########\n",
    "EventInput = dict\n",
    "class H:\n",
    "        \n",
    "    @staticmethod\n",
    "    @beartype\n",
    "    def parseInput(event: EventInput) -> str:\n",
    "        '''\n",
    "        returns username and password arguments from input\n",
    "        '''\n",
    "        body = Event.parseBody(deepcopy(event))\n",
    "        try:\n",
    "            username = body['username']\n",
    "        except KeyError:\n",
    "            logger.error('username is not in body')\n",
    "            raise ParseInputError('username is not in body')\n",
    "\n",
    "        return username\n",
    "    \n",
    "    @staticmethod\n",
    "    @beartype\n",
    "    def usernameInDatabase(username: str) -> bool:\n",
    "        try:\n",
    "            queryResult = NumberTable.query(username)\n",
    "            listResult = [row for row in queryResult]\n",
    "            if len(listResult) != 1:\n",
    "                return False\n",
    "            return True\n",
    "        except Exception as e:\n",
    "            logger.error(f'Unable to check whether or not the username is in the database:\\n{e}')\n",
    "            raise CheckDatabaseError(f'Unable to check whether or not the username is in the database:\\n{e}')\n",
    "\n",
    "    @staticmethod\n",
    "    @beartype\n",
    "    def createTable():\n",
    "        '''Cretaes the table if it doesn't exist'''\n",
    "\n",
    "        try:\n",
    "            if not NumberTable.exists():\n",
    "                NumberTable.create_table(billing_mode='PAY_PER_REQUEST')\n",
    "        except Exception as e:\n",
    "            logger.error(f'Unable to create database:\\n{e}')\n",
    "            raise CreateTableError(f'Unable to create database:\\n{e}')\n",
    "    \n",
    "    @staticmethod\n",
    "    @beartype\n",
    "    def getNumber(username: str):\n",
    "        try:\n",
    "            user = queryResult = NumberTable.query(username)\n",
    "        except Exception as e:\n",
    "            logger.error(f'Unable to query database\\n{e}')\n",
    "            raise QueryDatabaseError(f'Unable to query database\\n{e}')\n",
    "        \n",
    "        try:\n",
    "            for U in user:\n",
    "                return U.number\n",
    "        except Exception as e:\n",
    "            logger.error(f\"User has no number:\\n{e}\")\n",
    "            raise QueryDatabaseError(f\"User has no number:\\n{e}\")\n",
    "    \n",
    "    "
   ]
  },
  {
   "cell_type": "code",
   "execution_count": null,
   "metadata": {},
   "outputs": [],
   "source": [
    "#export\n",
    "############################## Main Function ###############################\n",
    "def changePassword(event, *args):\n",
    "\n",
    "  logger.info(f\"Number table name :: {USERNUMBERTABLE}\")\n",
    "  \n",
    "  evtCpy = deepcopy(event)\n",
    "  logger.info(f'Event :: {evtCpy}')\n",
    "\n",
    "  username = H.parseInput(evtCpy)\n",
    "  \n",
    "  if H.usernameInDatabase(username):\n",
    "    try:\n",
    "      userNumber = H.getNumber(username)\n",
    "      output = {'success': True, 'age' : 'old', 'number' : int(userNumber)}\n",
    "    except Exception as e:\n",
    "      logger.error(f\"Unable to pull number from database:\\n{e}\")\n",
    "      output = {'success' : False, 'message' : f'{e}'}\n",
    "      return Response.returnError(body=output)\n",
    "    return Response.returnSuccess(body=output)\n",
    "\n",
    "  URL = 'https://www.random.org/integers/?num=1&min=0&max=10&col=1&base=10&format=plain&rnd=new'\n",
    "  resp = requests.get(url=URL)\n",
    "\n",
    "  if resp.status_code == 200:\n",
    "    try:\n",
    "      threadItem = NumberTable(username=deepcopy(username), number=json.loads(resp.content))\n",
    "      threadItem.save()\n",
    "    except Exception as e:\n",
    "      logger.error(f'Unable to add user to database\\n{e}')\n",
    "      output = {'success' : False, 'message' : f'e'}\n",
    "      return Response.returnError(body=output)\n",
    "      \n",
    "    output = {'success' : True, 'age' : 'new', 'number' : json.loads(resp.content)}\n",
    "    return Response.returnSuccess(body=output)\n",
    "\n",
    "  output = {'success' : False}\n",
    "  return Response.returnError(\"Incorrect Username or Password\")"
   ]
  }
 ],
 "metadata": {
  "kernelspec": {
   "display_name": "Python 3.8.13 ('LambdaSeg')",
   "language": "python",
   "name": "python3"
  },
  "language_info": {
   "codemirror_mode": {
    "name": "ipython",
    "version": 3
   },
   "file_extension": ".py",
   "mimetype": "text/x-python",
   "name": "python",
   "nbconvert_exporter": "python",
   "pygments_lexer": "ipython3",
   "version": "3.8.13"
  },
  "orig_nbformat": 4,
  "vscode": {
   "interpreter": {
    "hash": "e8db746a47a84e0984979cd0673a03a681bfdcab95be4575c90c7c222ec68e2c"
   }
  }
 },
 "nbformat": 4,
 "nbformat_minor": 2
}
