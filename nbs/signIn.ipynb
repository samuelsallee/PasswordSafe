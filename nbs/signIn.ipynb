{
 "cells": [
  {
   "cell_type": "code",
   "execution_count": null,
   "metadata": {},
   "outputs": [],
   "source": [
    "# default_exp signIn"
   ]
  },
  {
   "cell_type": "markdown",
   "metadata": {},
   "source": [
    "# Sign in\n"
   ]
  },
  {
   "cell_type": "code",
   "execution_count": 5,
   "metadata": {},
   "outputs": [],
   "source": [
    "#export\n",
    "from awsSchema.apigateway import Event,Response"
   ]
  },
  {
   "cell_type": "code",
   "execution_count": 6,
   "metadata": {},
   "outputs": [],
   "source": [
    "#export\n",
    "def signIn(event, *args):\n",
    "  \n",
    "  return Response.returnSuccess(\"this is sign in function\")"
   ]
  },
  {
   "cell_type": "code",
   "execution_count": 7,
   "metadata": {},
   "outputs": [
    {
     "data": {
      "text/plain": [
       "{'body': '\"this is sign in function\"',\n",
       " 'statusCode': 200,\n",
       " 'headers': {'Access-Control-Allow-Headers': '*',\n",
       "  'Access-Control-Allow-Origin': '*',\n",
       "  'Access-Control-Allow-Methods': '*'}}"
      ]
     },
     "execution_count": 7,
     "metadata": {},
     "output_type": "execute_result"
    }
   ],
   "source": [
    "signIn('hello')"
   ]
  },
  {
   "cell_type": "code",
   "execution_count": null,
   "metadata": {},
   "outputs": [],
   "source": [
    "#hide\n",
    "# import src.setEnv"
   ]
  },
  {
   "cell_type": "code",
   "execution_count": null,
   "metadata": {},
   "outputs": [],
   "source": [
    "#export\n",
    "# from beartype import beartype\n",
    "# from awsSchema.apigateway import Response, Event\n",
    "# from dataclasses import dataclass\n",
    "# from dataclasses_json import dataclass_json\n",
    "# from copy import deepcopy"
   ]
  },
  {
   "cell_type": "code",
   "execution_count": null,
   "metadata": {},
   "outputs": [],
   "source": [
    "#export\n",
    "# from src import passwordHelper as PH\n",
    "# from src.passwordTable import UserPasswordTable"
   ]
  },
  {
   "cell_type": "markdown",
   "metadata": {},
   "source": [
    "## main lambda handler"
   ]
  },
  {
   "cell_type": "code",
   "execution_count": null,
   "metadata": {},
   "outputs": [],
   "source": [
    "# #export\n",
    "# @dataclass_json\n",
    "# @dataclass\n",
    "# class User:\n",
    "#   username: str\n",
    "#   password: str\n",
    "    \n",
    "# class H:\n",
    "#   @staticmethod\n",
    "#   def parseInput(event)->User:\n",
    "#     ec = deepcopy(event)\n",
    "#     pathParams = Event.parseQuery(ec)\n",
    "#     user = User.from_dict(pathParams)\n",
    "#     return user\n",
    "#   @staticmethod\n",
    "#   def checkPassword(user:User)->bool:\n",
    "#     userPwTable: UserPasswordTable  = next(UserPasswordTable.query(user.username))\n",
    "#     return PH.checkPassword(userPwTable.passwordHash, user.password)\n",
    "    \n",
    "#   @staticmethod\n",
    "#   def makeJWT():\n",
    "#     return '1234'\n",
    "  \n",
    "  \n",
    "    "
   ]
  },
  {
   "cell_type": "code",
   "execution_count": null,
   "metadata": {},
   "outputs": [],
   "source": [
    "#export\n",
    "# def signIn(event, *args):\n",
    "#   user = H.parseInput(event)\n",
    "#   if not H.checkPassword(user):\n",
    "#     return Response.returnError('user or password is wrong')\n",
    "#   return Response.returnSuccess({'token': H.makeJWT()})\n",
    "  \n",
    "  \n"
   ]
  },
  {
   "cell_type": "code",
   "execution_count": null,
   "metadata": {},
   "outputs": [
    {
     "name": "stdout",
     "output_type": "stream",
     "text": [
      "1234\n",
      "{'error': 'user or password is wrong'}\n"
     ]
    }
   ],
   "source": [
    "#test\n",
    "# ### correct passwrod\n",
    "# input_ = {'username': 'nic1', 'password':'123'}\n",
    "# event = Event.getInput(queryStringParameters = input_)\n",
    "# r = signIn(event)\n",
    "# assert r['statusCode'] == 200\n",
    "# print(Response.parseBody(r)['token'])\n",
    "\n",
    "# ### wrong password\n",
    "\n",
    "# input_ = {'username': 'nic1', 'password':'1234'}\n",
    "# event = Event.getInput(queryStringParameters = input_)\n",
    "# r = signIn(event)\n",
    "# assert r['statusCode'] == 400\n",
    "# print(Response.parseBody(r))"
   ]
  },
  {
   "cell_type": "code",
   "execution_count": null,
   "metadata": {},
   "outputs": [],
   "source": []
  },
  {
   "cell_type": "code",
   "execution_count": null,
   "metadata": {},
   "outputs": [],
   "source": []
  },
  {
   "cell_type": "code",
   "execution_count": null,
   "metadata": {},
   "outputs": [],
   "source": []
  }
 ],
 "metadata": {
  "kernelspec": {
   "display_name": "python38",
   "language": "python",
   "name": "python38"
  },
  "language_info": {
   "codemirror_mode": {
    "name": "ipython",
    "version": 3
   },
   "file_extension": ".py",
   "mimetype": "text/x-python",
   "name": "python",
   "nbconvert_exporter": "python",
   "pygments_lexer": "ipython3",
   "version": "3.8.0"
  }
 },
 "nbformat": 4,
 "nbformat_minor": 4
}
