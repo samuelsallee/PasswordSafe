{
 "cells": [
  {
   "cell_type": "code",
   "execution_count": null,
   "metadata": {},
   "outputs": [],
   "source": [
    "# default_exp signIn"
   ]
  },
  {
   "cell_type": "markdown",
   "metadata": {},
   "source": [
    "# Sign in\n"
   ]
  },
  {
   "cell_type": "code",
   "execution_count": 5,
   "metadata": {},
   "outputs": [],
   "source": [
    "#export\n",
    "########################### Imports ###########################\n",
    "import hashlib, uuid, os, logging, sys\n",
    "import ujson as json\n",
    "from awsSchema.apigateway import Event,Response\n",
    "from beartype import beartype\n",
    "from copy import deepcopy\n",
    "from pynamodb.models import Model\n",
    "from pynamodb.attributes import UnicodeAttribute, NumberAttribute, UnicodeSetAttribute, UTCDateTimeAttribute"
   ]
  },
  {
   "cell_type": "code",
   "execution_count": null,
   "metadata": {},
   "outputs": [],
   "source": [
    "#export\n",
    "############### Logger for debugging code ##################\n",
    "logger = logging.getLogger(__name__)\n",
    "logger.setLevel(logging.DEBUG)\n",
    "logger.addHandler(logging.StreamHandler(sys.stdout))"
   ]
  },
  {
   "cell_type": "code",
   "execution_count": null,
   "metadata": {},
   "outputs": [],
   "source": [
    "#export\n",
    "###################### Error Definitions ######################\n",
    "class HelperError(Exception): pass\n",
    "class ParseInputError(HelperError): pass\n",
    "class CheckDatabaseError(HelperError): pass\n",
    "class QueryDatabaseError(HelperError): pass\n",
    "class GetAttributeError(HelperError): pass"
   ]
  },
  {
   "cell_type": "code",
   "execution_count": null,
   "metadata": {},
   "outputs": [],
   "source": [
    "#hide\n",
    "os.environ['USERPASSWORDTABLE'] = 'user-password-demo-sallee-master'"
   ]
  },
  {
   "cell_type": "code",
   "execution_count": null,
   "metadata": {},
   "outputs": [],
   "source": [
    "#export\n",
    "################ Setting Globals from Env Vars ################\n",
    "USERPASSWORDTABLE = os.environ['USERPASSWORDTABLE']"
   ]
  },
  {
   "cell_type": "code",
   "execution_count": null,
   "metadata": {},
   "outputs": [],
   "source": [
    "#export\n",
    "############## Class for accessing DynamoDB #################\n",
    "class Thread(Model):\n",
    "    class Meta:\n",
    "        table_name = USERPASSWORDTABLE\n",
    "        region = 'ap-southeast-1'\n",
    "\n",
    "    username = UnicodeAttribute(hash_key=True, attr_name='username')\n",
    "    passwordHash = UnicodeAttribute(range_key=True, attr_name='passwordHash')\n",
    "    salt = UnicodeAttribute(attr_name='salt')\n",
    "    hashAndSalt = UnicodeAttribute(attr_name='hashAndSalt')\n",
    "\n"
   ]
  },
  {
   "cell_type": "code",
   "execution_count": null,
   "metadata": {},
   "outputs": [],
   "source": [
    "#export\n",
    "########## Helper class for main function ##########\n",
    "EventInput = dict\n",
    "class H:\n",
    "    @staticmethod\n",
    "    @beartype\n",
    "    def sha256(password):\n",
    "        return hashlib.sha256(password.encode()).hexdigest()\n",
    "\n",
    "    @classmethod\n",
    "    @beartype\n",
    "    def salted_sha256(cls, password: str, salt: str ='') -> tuple:\n",
    "        if salt == '':\n",
    "            salt = cls.salt()\n",
    "        return f'{cls.sha256(salt + password)}', f'{salt}'\n",
    "        \n",
    "    @staticmethod\n",
    "    @beartype\n",
    "    def parseInput(event: EventInput) -> tuple:\n",
    "        '''\n",
    "        returns username and password arguments from input\n",
    "        '''\n",
    "        body = Event.parseBody(deepcopy(event))\n",
    "        try:\n",
    "            username = body['username']\n",
    "        except KeyError:\n",
    "            logger.error('username is not in body')\n",
    "            raise ParseInputError('username is not in body')\n",
    "\n",
    "        try:\n",
    "            password = body['password']\n",
    "        except KeyError:\n",
    "            logger.error('password is not in body')\n",
    "            raise ParseInputError('password is not in body')\n",
    "\n",
    "        return username, password\n",
    "    \n",
    "    @staticmethod\n",
    "    @beartype\n",
    "    def usernameInDatabase(username: str) -> bool:\n",
    "        try:\n",
    "            queryResult = Thread.query(username)\n",
    "            listResult = [row for row in queryResult]\n",
    "            if len(listResult) != 1:\n",
    "                return False\n",
    "            return True\n",
    "        except Exception as e:\n",
    "            logger.error(f'Unable to check whether or not the username is in the database:\\n{e}')\n",
    "            raise CheckDatabaseError(f'Unable to check whether or not the username is in the database:\\n{e}')\n",
    "\n",
    "    @staticmethod\n",
    "    @beartype\n",
    "    def tableExists() -> bool:\n",
    "        try:\n",
    "            if Thread.exists():\n",
    "                return True\n",
    "            return False\n",
    "        except Exception as e:\n",
    "            logger.error(f\"Unable to see whether or not the database exists:\\n{e}\")\n",
    "            raise CheckDatabaseError(f\"Unable to see whether or not the database exists:\\n{e}\")\n",
    "    \n",
    "    @staticmethod\n",
    "    @beartype\n",
    "    def getSalt(username: str) -> str:\n",
    "        try: \n",
    "            user = queryResult = Thread.query(username)\n",
    "        except Exception as e:\n",
    "            logger.error(f'unable to query database:\\n{e}')\n",
    "            raise QueryDatabaseError(f'unable to query database:\\n{e}')\n",
    "        \n",
    "        try:\n",
    "            for U in user:\n",
    "                return U.salt\n",
    "        except Exception as e:\n",
    "            logger.error(f\"Unable to get the user's hash salt:\\n{e}\")\n",
    "            raise GetAttributeError(f\"Unable to get the user's hash salt:\\n{e}\")\n",
    "        \n",
    "    @staticmethod\n",
    "    @beartype\n",
    "    def getHash(username: str) -> str:\n",
    "        try: \n",
    "            user = queryResult = Thread.query(username)\n",
    "        except Exception as e:\n",
    "            logger.error(f'unable to query database:\\n{e}')\n",
    "            raise QueryDatabaseError(f'unable to query database:\\n{e}')\n",
    "\n",
    "        try:\n",
    "            for U in user:\n",
    "                return U.passwordHash\n",
    "        except Exception as e:\n",
    "            logger.error(f\"Unable to get the user's hash salt:\\n{e}\")\n",
    "            raise GetAttributeError(f\"Unable to get the user's hash salt:\\n{e}\")\n",
    "        "
   ]
  },
  {
   "cell_type": "code",
   "execution_count": 6,
   "metadata": {},
   "outputs": [],
   "source": [
    "#export\n",
    "##################### Main Function #####################\n",
    "def signIn(event, *args):\n",
    "\n",
    "  if not H.tableExists():\n",
    "    return Response.returnError(\"Table doesn't exist\")\n",
    "\n",
    "  evtCpy = deepcopy(event)\n",
    "  logger.info(f'Event :: {evtCpy}')\n",
    "\n",
    "  username, password = H.parseInput(evtCpy)\n",
    "  # Take this away before using, it isn't a good idea to save the username and pw in logs\n",
    "  logger.info(f\"Username :: {username}\\npassword :: {password}\")\n",
    "\n",
    "  if H.usernameInDatabase(username):\n",
    "    salt = H.getSalt(username)\n",
    "    hash = H.getHash(username)\n",
    "    hashedPW, salt = H.salted_sha256(password, salt)\n",
    "    if hashedPW == hash:\n",
    "      return Response.returnSuccess(\"Signed In Successfully\")\n",
    "  \n",
    "  return Response.returnSuccess(\"Unable to sign in\") "
   ]
  },
  {
   "cell_type": "code",
   "execution_count": 7,
   "metadata": {},
   "outputs": [
    {
     "data": {
      "text/plain": [
       "{'body': '\"this is sign in function\"',\n",
       " 'statusCode': 200,\n",
       " 'headers': {'Access-Control-Allow-Headers': '*',\n",
       "  'Access-Control-Allow-Origin': '*',\n",
       "  'Access-Control-Allow-Methods': '*'}}"
      ]
     },
     "execution_count": 7,
     "metadata": {},
     "output_type": "execute_result"
    }
   ],
   "source": [
    "signIn('hello')"
   ]
  }
 ],
 "metadata": {
  "kernelspec": {
   "display_name": "Python 3.8.13 ('LambdaSeg')",
   "language": "python",
   "name": "python3"
  },
  "language_info": {
   "codemirror_mode": {
    "name": "ipython",
    "version": 3
   },
   "file_extension": ".py",
   "mimetype": "text/x-python",
   "name": "python",
   "nbconvert_exporter": "python",
   "pygments_lexer": "ipython3",
   "version": "3.8.13"
  },
  "vscode": {
   "interpreter": {
    "hash": "e8db746a47a84e0984979cd0673a03a681bfdcab95be4575c90c7c222ec68e2c"
   }
  }
 },
 "nbformat": 4,
 "nbformat_minor": 4
}
