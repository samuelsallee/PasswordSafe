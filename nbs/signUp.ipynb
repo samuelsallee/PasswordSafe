{
 "cells": [
  {
   "cell_type": "code",
   "execution_count": 1,
   "metadata": {},
   "outputs": [],
   "source": [
    "# default_exp signUp"
   ]
  },
  {
   "cell_type": "markdown",
   "metadata": {},
   "source": [
    "# Sign up\n",
    "\n",
    "> sign up"
   ]
  },
  {
   "cell_type": "code",
   "execution_count": 12,
   "metadata": {},
   "outputs": [],
   "source": [
    "#export\n",
    "###################### Imports ###########################\n",
    "import hashlib, uuid, os, logging, sys\n",
    "import ujson as json\n",
    "from awsSchema.apigateway import Event,Response\n",
    "from beartype import beartype\n",
    "from copy import deepcopy\n",
    "from pynamodb.models import Model\n",
    "from pynamodb.attributes import (\n",
    "    UnicodeAttribute, NumberAttribute, UnicodeSetAttribute, UTCDateTimeAttribute\n",
    ")"
   ]
  },
  {
   "cell_type": "code",
   "execution_count": 3,
   "metadata": {},
   "outputs": [],
   "source": [
    "#export\n",
    "############### Logger for debugging code ##################\n",
    "logger = logging.getLogger(__name__)\n",
    "logger.setLevel(logging.DEBUG)\n",
    "logger.addHandler(logging.StreamHandler(sys.stdout))"
   ]
  },
  {
   "cell_type": "code",
   "execution_count": 4,
   "metadata": {},
   "outputs": [],
   "source": [
    "#export\n",
    "########## Error Definitions ##########\n",
    "class HelperError(Exception): pass\n",
    "class ParseInputError(HelperError): pass\n",
    "class AddUserError(HelperError): pass\n",
    "class CreateTableError(HelperError): pass\n",
    "class UsernameAvailabilityError(HelperError): pass"
   ]
  },
  {
   "cell_type": "code",
   "execution_count": 6,
   "metadata": {},
   "outputs": [],
   "source": [
    "#hide\n",
    "os.environ['USERPASSWORDTABLE'] = 'user-password-demo-sallee-master'"
   ]
  },
  {
   "cell_type": "code",
   "execution_count": 7,
   "metadata": {},
   "outputs": [],
   "source": [
    "#export\n",
    "################ Setting Globals from Env Vars ################\n",
    "USERPASSWORDTABLE = os.environ['USERPASSWORDTABLE']"
   ]
  },
  {
   "cell_type": "code",
   "execution_count": 8,
   "metadata": {},
   "outputs": [],
   "source": [
    "#export\n",
    "############## Class for accessing DynamoDB #################\n",
    "class Thread(Model):\n",
    "    class Meta:\n",
    "        table_name = USERPASSWORDTABLE\n",
    "        region = 'ap-southeast-1'\n",
    "\n",
    "    username = UnicodeAttribute(hash_key=True, attr_name='username')\n",
    "    passwordHash = UnicodeAttribute(attr_name='passwordHash')\n",
    "    salt = UnicodeAttribute(attr_name='salt')\n",
    "    hashAndSalt = UnicodeAttribute(attr_name='hashAndSalt')\n",
    "\n"
   ]
  },
  {
   "cell_type": "code",
   "execution_count": 9,
   "metadata": {},
   "outputs": [],
   "source": [
    "#export\n",
    "########## Helper class for main function ##########\n",
    "EventInput = dict\n",
    "class H:\n",
    "    @staticmethod\n",
    "    @beartype\n",
    "    def sha256(password: str) -> str:\n",
    "        return hashlib.sha256(password.encode()).hexdigest()\n",
    "    \n",
    "    @staticmethod\n",
    "    @beartype\n",
    "    def salt() -> str:\n",
    "        return uuid.uuid4().hex\n",
    "\n",
    "    @classmethod\n",
    "    @beartype\n",
    "    def salted_sha256(cls, password: str, salt: str ='') -> tuple:\n",
    "        if salt == '':\n",
    "            salt = cls.salt()\n",
    "        return f'{cls.sha256(salt + password)}', f'{salt}'\n",
    "    \n",
    "    @staticmethod\n",
    "    @beartype\n",
    "    def add_user_to_table(username: str, hash: str, salt: str, hashAndSalt: str):\n",
    "        try:\n",
    "            userTable = os.environ['USERPASSWORDTABLE']\n",
    "            threadItem = Thread(username=deepcopy(username), \n",
    "                                passwordHash=deepcopy(hash), \n",
    "                                salt=deepcopy(salt), \n",
    "                                hashAndSalt=deepcopy(hashAndSalt))\n",
    "            threadItem.save()\n",
    "        except Exception as e:\n",
    "            logger.error(f'Unable to add user to the database:\\n{e}')\n",
    "            raise AddUserError(f'Unable to add user to the database:\\n{e}')\n",
    "        \n",
    "    @staticmethod\n",
    "    @beartype\n",
    "    def parseInput(event: EventInput) -> tuple:\n",
    "        '''\n",
    "        returns username and password arguments from input\n",
    "        '''\n",
    "        body = Event.parseBody(deepcopy(event))\n",
    "        try:\n",
    "            username = body['username']\n",
    "        except KeyError:\n",
    "            logger.error('username is not in body')\n",
    "            raise ParseInputError('username is not in body')\n",
    "\n",
    "        try:\n",
    "            password = body['password']\n",
    "        except KeyError:\n",
    "            logger.error('password is not in body')\n",
    "            raise ParseInputError('password is not in body')\n",
    "\n",
    "        return username, password\n",
    "    \n",
    "    @staticmethod\n",
    "    def createTable():\n",
    "        '''Cretaes the table if it doesn't exist'''\n",
    "\n",
    "        try:\n",
    "            if not Thread.exists():\n",
    "                Thread.create_table(billing_mode='PAY_PER_REQUEST')\n",
    "        except Exception as e:\n",
    "            logger.error(f'Unable to create database:\\n{e}')\n",
    "            raise CreateTableError(f'Unable to create database:\\n{e}')\n",
    "    \n",
    "    @staticmethod\n",
    "    @beartype\n",
    "    def usernameAvailable(username: str) -> bool:\n",
    "        try:\n",
    "            queryResult = Thread.query(username)\n",
    "            listResult = [row for row in queryResult]\n",
    "            if len(listResult) > 0:\n",
    "                return False\n",
    "            return True\n",
    "        except Exception as e:\n",
    "            logger.error(f'Unable to check whether or not the username is available:\\n{e}')\n",
    "            raise UsernameAvailabilityError(f'Unable to check whether or not the username is available:\\n{e}')\n",
    "        "
   ]
  },
  {
   "cell_type": "code",
   "execution_count": 10,
   "metadata": {},
   "outputs": [],
   "source": [
    "#export\n",
    "############################## Main Function ###############################\n",
    "def signUp(event, *args):\n",
    "\n",
    "  logger.info(f\"Password table name :: {USERPASSWORDTABLE}\")\n",
    "  \n",
    "  evtCpy = deepcopy(event)\n",
    "  logger.info(f'Event :: {evtCpy}')\n",
    "\n",
    "  H.createTable()\n",
    "\n",
    "  username, password = H.parseInput(evtCpy)\n",
    "  # Take this away before using, it isn't a good idea to save the username and pw in logs\n",
    "  # logger.info(f\"Username :: {username}\\npassword :: {password}\")\n",
    "\n",
    "  hashedPw, salt = H.salted_sha256(password)\n",
    "  hashAndSalt = hashedPw + ':' + salt\n",
    "  logger.info(f'Hashed Pass :: {hashedPw}')\n",
    "  logger.info(f'Salt :: {salt}')\n",
    "\n",
    "  if H.usernameAvailable(username):\n",
    "    H.add_user_to_table(username, hashedPw, salt, hashAndSalt)\n",
    "  \n",
    "  return Response.returnSuccess(\"Success\")"
   ]
  },
  {
   "cell_type": "code",
   "execution_count": 16,
   "metadata": {},
   "outputs": [
    {
     "name": "stdout",
     "output_type": "stream",
     "text": [
      "{\"body\":\"{\\\"username\\\":\\\"Samuel\\\",\\\"password\\\":\\\"1234\\\"}\",\"httpMethod\":null,\"multiValueHeaders\":null,\"multiValueQueryStringParameters\":null,\"path\":null,\"pathParameters\":null,\"queryStringParameters\":{},\"requestContext\":null,\"headers\":{},\"statusCode\":200,\"isBase64Encoded\":false}\n"
     ]
    }
   ],
   "source": [
    "#hide\n",
    "sampleInput = {'username' : 'Samuel', 'password' : '1234'}\n",
    "sampleEvent = Event.getInput(body=sampleInput)\n",
    "print(json.dumps(sampleEvent))\n"
   ]
  },
  {
   "cell_type": "code",
   "execution_count": 19,
   "metadata": {},
   "outputs": [
    {
     "name": "stdout",
     "output_type": "stream",
     "text": [
      "<class 'str'>\n"
     ]
    }
   ],
   "source": [
    "#hide\n",
    "print(type(H.salt()))"
   ]
  },
  {
   "cell_type": "code",
   "execution_count": null,
   "metadata": {},
   "outputs": [],
   "source": []
  }
 ],
 "metadata": {
  "kernelspec": {
   "display_name": "Python 3.8.13 ('LambdaSeg')",
   "language": "python",
   "name": "python3"
  },
  "language_info": {
   "codemirror_mode": {
    "name": "ipython",
    "version": 3
   },
   "file_extension": ".py",
   "mimetype": "text/x-python",
   "name": "python",
   "nbconvert_exporter": "python",
   "pygments_lexer": "ipython3",
   "version": "3.8.13"
  },
  "vscode": {
   "interpreter": {
    "hash": "e8db746a47a84e0984979cd0673a03a681bfdcab95be4575c90c7c222ec68e2c"
   }
  }
 },
 "nbformat": 4,
 "nbformat_minor": 4
}
