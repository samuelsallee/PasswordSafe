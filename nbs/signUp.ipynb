{
 "cells": [
  {
   "cell_type": "code",
   "execution_count": 1,
   "metadata": {},
   "outputs": [],
   "source": [
    "# default_exp signUp"
   ]
  },
  {
   "cell_type": "markdown",
   "metadata": {},
   "source": [
    "# Sign up\n",
    "\n",
    "> sign up"
   ]
  },
  {
   "cell_type": "code",
   "execution_count": 12,
   "metadata": {},
   "outputs": [],
   "source": [
    "#export\n",
    "import hashlib, uuid, os, logging, sys\n",
    "import ujson as json\n",
    "from awsSchema.apigateway import Event,Response\n",
    "from beartype import beartype\n",
    "from copy import deepcopy\n",
    "from pynamodb.models import Model\n",
    "from pynamodb.attributes import (\n",
    "    UnicodeAttribute, NumberAttribute, UnicodeSetAttribute, UTCDateTimeAttribute\n",
    ")"
   ]
  },
  {
   "cell_type": "code",
   "execution_count": 3,
   "metadata": {},
   "outputs": [],
   "source": [
    "#export\n",
    "############### Logger for debugging code ##################\n",
    "logger = logging.getLogger(__name__)\n",
    "logger.setLevel(logging.DEBUG)\n",
    "logger.addHandler(logging.StreamHandler(sys.stdout))"
   ]
  },
  {
   "cell_type": "code",
   "execution_count": 4,
   "metadata": {},
   "outputs": [],
   "source": [
    "#export\n",
    "########## Error Definitions ##########\n",
    "class HelperError(Exception): pass\n",
    "class ParseInputError(HelperError): pass"
   ]
  },
  {
   "cell_type": "code",
   "execution_count": 6,
   "metadata": {},
   "outputs": [],
   "source": [
    "#hide\n",
    "os.environ['USERPASSWORDTABLE'] = 'user-password-demo-sallee-master'"
   ]
  },
  {
   "cell_type": "code",
   "execution_count": 7,
   "metadata": {},
   "outputs": [],
   "source": [
    "#export\n",
    "################ Setting Globals from Env Vars ################\n",
    "USERPASSWORDTABLE = os.environ['USERPASSWORDTABLE']"
   ]
  },
  {
   "cell_type": "code",
   "execution_count": 8,
   "metadata": {},
   "outputs": [],
   "source": [
    "#export\n",
    "############## Class for accessing DynamoDB #################\n",
    "class Thread(Model):\n",
    "    class Meta:\n",
    "        table_name = USERPASSWORDTABLE\n",
    "        region = 'ap-southeast-1'\n",
    "\n",
    "    name = UnicodeAttribute(hash_key=True, attr_name='username')\n",
    "    pHash = UnicodeAttribute(range_key=True, attr_name='password')\n"
   ]
  },
  {
   "cell_type": "code",
   "execution_count": 9,
   "metadata": {},
   "outputs": [],
   "source": [
    "#export\n",
    "########## Helper class for main function ##########\n",
    "EventInput = dict\n",
    "class H:\n",
    "    @staticmethod\n",
    "    def sha256(password):\n",
    "        return hashlib.sha256(password.encode()).hexdigest()\n",
    "    \n",
    "    @staticmethod\n",
    "    def salt():\n",
    "        return uuid.uuid4().hex\n",
    "\n",
    "    @classmethod\n",
    "    def salted_sha256(cls, password, salt=''):\n",
    "        if salt == '':\n",
    "            salt = cls.salt()\n",
    "        return f'{cls.sha256(salt + password)}:{salt}' if salt is cls.salted_sha256.__defaults__[0] else cls.sha256(salt + password)\n",
    "    \n",
    "    @staticmethod\n",
    "    def add_user_to_table(username, hash):\n",
    "        userTable = os.environ['USERPASSWORDTABLE']\n",
    "        threadItem = Thread(username, hash)\n",
    "        threadItem.save()\n",
    "        \n",
    "    \n",
    "    @staticmethod\n",
    "    @beartype\n",
    "    def parseInput(event: EventInput) -> tuple:\n",
    "        '''\n",
    "        returns path and filetype arguments from input\n",
    "        '''\n",
    "        body = Event.parseBody(deepcopy(event))\n",
    "        try:\n",
    "            username = body['username']\n",
    "        except KeyError:\n",
    "            logger.error('username is not in body')\n",
    "            raise ParseInputError('username is not in body')\n",
    "\n",
    "        try:\n",
    "            password = body['password']\n",
    "        except KeyError:\n",
    "            logger.error('password is not in body')\n",
    "            raise ParseInputError('password is not in body')\n",
    "\n",
    "        return username, password"
   ]
  },
  {
   "cell_type": "code",
   "execution_count": 10,
   "metadata": {},
   "outputs": [],
   "source": [
    "#export\n",
    "def signUp(event, *args):\n",
    "\n",
    "  logger.info(f\"Password table name :: {USERPASSWORDTABLE}\")\n",
    "  \n",
    "  evtCpy = deepcopy(event)\n",
    "  logger.info(f'Event :: {evtCpy}')\n",
    "\n",
    "  username, password = H.parseInput(evtCpy)\n",
    "  # Take this away before using, it isn't a good idea to save the username and pw in logs\n",
    "  logger.info(f\"Username :: {username}\\npassword :: {password}\")\n",
    "\n",
    "  hashedPw = H.salted_sha256(password)\n",
    "  logger.info(f'Hashed Pass :: {hashedPw}')\n",
    "\n",
    "  H.add_user_to_table(username, hashedPw)\n",
    "  \n",
    "  return Response.returnSuccess(\"Success\")"
   ]
  },
  {
   "cell_type": "code",
   "execution_count": 16,
   "metadata": {},
   "outputs": [
    {
     "name": "stdout",
     "output_type": "stream",
     "text": [
      "{\"body\":\"{\\\"username\\\":\\\"Samuel\\\",\\\"password\\\":\\\"1234\\\"}\",\"httpMethod\":null,\"multiValueHeaders\":null,\"multiValueQueryStringParameters\":null,\"path\":null,\"pathParameters\":null,\"queryStringParameters\":{},\"requestContext\":null,\"headers\":{},\"statusCode\":200,\"isBase64Encoded\":false}\n"
     ]
    }
   ],
   "source": [
    "#hide\n",
    "sampleInput = {'username' : 'Samuel', 'password' : '1234'}\n",
    "sampleEvent = Event.getInput(body=sampleInput)\n",
    "print(json.dumps(sampleEvent))\n"
   ]
  },
  {
   "cell_type": "code",
   "execution_count": 17,
   "metadata": {},
   "outputs": [
    {
     "name": "stdout",
     "output_type": "stream",
     "text": [
      "Event :: {'body': '{\"username\":\"Samuel\",\"password\":\"1234\"}', 'httpMethod': None, 'multiValueHeaders': None, 'multiValueQueryStringParameters': None, 'path': None, 'pathParameters': None, 'queryStringParameters': {}, 'requestContext': None, 'headers': {}, 'statusCode': 200, 'isBase64Encoded': False}\n",
      "Username :: Samuel\n",
      "password :: 1234\n",
      "Hashed Pass :: 334edd4aff174f590bedca6cc540b290d4de6b2e68d2070d1f475135ce64b07b\n"
     ]
    },
    {
     "data": {
      "text/plain": [
       "{'body': '\"this is sign up function\"',\n",
       " 'statusCode': 200,\n",
       " 'headers': {'Access-Control-Allow-Headers': '*',\n",
       "  'Access-Control-Allow-Origin': '*',\n",
       "  'Access-Control-Allow-Methods': '*'}}"
      ]
     },
     "execution_count": 17,
     "metadata": {},
     "output_type": "execute_result"
    }
   ],
   "source": [
    "signUp(sampleEvent)"
   ]
  },
  {
   "cell_type": "code",
   "execution_count": null,
   "metadata": {},
   "outputs": [],
   "source": [
    "#hide\n",
    "# import src.setEnv"
   ]
  },
  {
   "cell_type": "code",
   "execution_count": null,
   "metadata": {},
   "outputs": [],
   "source": [
    "#export\n",
    "# from beartype import beartype\n",
    "# from awsSchema.apigateway import Response, Event\n",
    "# from dataclasses import dataclass\n",
    "# from dataclasses_json import dataclass_json\n",
    "# from copy import deepcopy"
   ]
  },
  {
   "cell_type": "code",
   "execution_count": null,
   "metadata": {},
   "outputs": [],
   "source": [
    "#export\n",
    "# from src import passwordHelper as PH\n",
    "# from src.passwordTable import UserPasswordTable"
   ]
  },
  {
   "cell_type": "markdown",
   "metadata": {},
   "source": [
    "## User input class"
   ]
  },
  {
   "cell_type": "code",
   "execution_count": null,
   "metadata": {},
   "outputs": [],
   "source": [
    "#export\n",
    "# @dataclass_json\n",
    "# @dataclass\n",
    "# class User:\n",
    "#   username:str\n",
    "#   password:str\n",
    "    \n",
    "#   @property\n",
    "#   def passwordHash(self):\n",
    "#     return PH.hashPassword(self.password)\n",
    "  \n",
    "#   def save(self):\n",
    "#     table = UserPasswordTable(\n",
    "#       username = self.username,\n",
    "#       passwordHash = self.passwordHash\n",
    "#     )\n",
    "#     table.save()\n",
    "  "
   ]
  },
  {
   "cell_type": "code",
   "execution_count": null,
   "metadata": {},
   "outputs": [],
   "source": [
    "# SetUpUsername(username = '123', password='123')\n",
    "# sun = User.from_dict( {'username': 'nic', 'password':'123'})\n",
    "# sun.passwordHash\n",
    "# sun.save()"
   ]
  },
  {
   "cell_type": "markdown",
   "metadata": {},
   "source": [
    "## helper functions"
   ]
  },
  {
   "cell_type": "code",
   "execution_count": null,
   "metadata": {},
   "outputs": [],
   "source": [
    "#export\n",
    "# class H:\n",
    "#   class ParseInputError(Exception): pass\n",
    "#   class SavingUserError(Exception): pass\n",
    "#   @classmethod\n",
    "#   @beartype\n",
    "#   def parseInput(cls,event:dict)->User:\n",
    "#     try:\n",
    "#       user = Event.parseDataClass(User,deepcopy(event))\n",
    "#       return user\n",
    "#     except Exception as e:\n",
    "#       raise cls.ParseInputError(e)\n",
    "  \n",
    "#   @classmethod\n",
    "#   @beartype\n",
    "#   def save(cls, user:User)->bool:\n",
    "#     try:\n",
    "#       user.save()\n",
    "#       return True\n",
    "#     except Exception as e:\n",
    "#       raise cls.SavingUserError(e)\n",
    "      \n",
    "    \n",
    "      "
   ]
  },
  {
   "cell_type": "code",
   "execution_count": null,
   "metadata": {},
   "outputs": [],
   "source": []
  },
  {
   "cell_type": "markdown",
   "metadata": {},
   "source": [
    "## main lambda handler"
   ]
  },
  {
   "cell_type": "code",
   "execution_count": null,
   "metadata": {},
   "outputs": [],
   "source": [
    "#export\n",
    "# def signUp(event, *args):\n",
    "#   try:\n",
    "#     user = H.parseInput(event)\n",
    "#     H.save(user)\n",
    "#     return Response.returnSuccess()\n",
    "#   except H.SavingUserError as e:\n",
    "#     return Response.returnError(f'failed saving user {e}')\n",
    "#   except Exception as e:\n",
    "#     return Response.returnError(f'unknown error {e}')"
   ]
  },
  {
   "cell_type": "code",
   "execution_count": null,
   "metadata": {},
   "outputs": [],
   "source": [
    "# input_ = {'username': 'nic1', 'password':'123'}\n",
    "# event = Event.getInput(body = input_)\n",
    "# signUp(event)"
   ]
  },
  {
   "cell_type": "code",
   "execution_count": null,
   "metadata": {},
   "outputs": [],
   "source": []
  },
  {
   "cell_type": "code",
   "execution_count": null,
   "metadata": {},
   "outputs": [],
   "source": []
  },
  {
   "cell_type": "code",
   "execution_count": null,
   "metadata": {},
   "outputs": [],
   "source": []
  }
 ],
 "metadata": {
  "kernelspec": {
   "display_name": "Python 3.8.13 ('LambdaSeg')",
   "language": "python",
   "name": "python3"
  },
  "language_info": {
   "codemirror_mode": {
    "name": "ipython",
    "version": 3
   },
   "file_extension": ".py",
   "mimetype": "text/x-python",
   "name": "python",
   "nbconvert_exporter": "python",
   "pygments_lexer": "ipython3",
   "version": "3.8.13"
  },
  "vscode": {
   "interpreter": {
    "hash": "e8db746a47a84e0984979cd0673a03a681bfdcab95be4575c90c7c222ec68e2c"
   }
  }
 },
 "nbformat": 4,
 "nbformat_minor": 4
}
