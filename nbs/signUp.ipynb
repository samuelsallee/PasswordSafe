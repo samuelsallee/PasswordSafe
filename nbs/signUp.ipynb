{
 "cells": [
  {
   "cell_type": "code",
   "execution_count": null,
   "metadata": {},
   "outputs": [],
   "source": [
    "# default_exp signUp"
   ]
  },
  {
   "cell_type": "markdown",
   "metadata": {},
   "source": [
    "# Sign up\n",
    "\n",
    "> sign up"
   ]
  },
  {
   "cell_type": "code",
   "execution_count": null,
   "metadata": {},
   "outputs": [],
   "source": [
    "#export\n",
    "from awsSchema.apigateway import Event,Response"
   ]
  },
  {
   "cell_type": "code",
   "execution_count": null,
   "metadata": {},
   "outputs": [],
   "source": [
    "#export\n",
    "def signUp(event, *args):\n",
    "  \n",
    "  return Response.returnSuccess(\"this is sign up function\")"
   ]
  },
  {
   "cell_type": "code",
   "execution_count": null,
   "metadata": {},
   "outputs": [
    {
     "data": {
      "text/plain": [
       "{'body': '\"this is sign in function\"',\n",
       " 'statusCode': 200,\n",
       " 'headers': {'Access-Control-Allow-Headers': '*',\n",
       "  'Access-Control-Allow-Origin': '*',\n",
       "  'Access-Control-Allow-Methods': '*'}}"
      ]
     },
     "execution_count": null,
     "metadata": {},
     "output_type": "execute_result"
    }
   ],
   "source": [
    "signUp('hello')"
   ]
  },
  {
   "cell_type": "code",
   "execution_count": null,
   "metadata": {},
   "outputs": [],
   "source": [
    "#hide\n",
    "# import src.setEnv"
   ]
  },
  {
   "cell_type": "code",
   "execution_count": null,
   "metadata": {},
   "outputs": [],
   "source": [
    "#export\n",
    "# from beartype import beartype\n",
    "# from awsSchema.apigateway import Response, Event\n",
    "# from dataclasses import dataclass\n",
    "# from dataclasses_json import dataclass_json\n",
    "# from copy import deepcopy"
   ]
  },
  {
   "cell_type": "code",
   "execution_count": null,
   "metadata": {},
   "outputs": [],
   "source": [
    "#export\n",
    "# from src import passwordHelper as PH\n",
    "# from src.passwordTable import UserPasswordTable"
   ]
  },
  {
   "cell_type": "markdown",
   "metadata": {},
   "source": [
    "## User input class"
   ]
  },
  {
   "cell_type": "code",
   "execution_count": null,
   "metadata": {},
   "outputs": [],
   "source": [
    "#export\n",
    "# @dataclass_json\n",
    "# @dataclass\n",
    "# class User:\n",
    "#   username:str\n",
    "#   password:str\n",
    "    \n",
    "#   @property\n",
    "#   def passwordHash(self):\n",
    "#     return PH.hashPassword(self.password)\n",
    "  \n",
    "#   def save(self):\n",
    "#     table = UserPasswordTable(\n",
    "#       username = self.username,\n",
    "#       passwordHash = self.passwordHash\n",
    "#     )\n",
    "#     table.save()\n",
    "  "
   ]
  },
  {
   "cell_type": "code",
   "execution_count": null,
   "metadata": {},
   "outputs": [],
   "source": [
    "# SetUpUsername(username = '123', password='123')\n",
    "# sun = User.from_dict( {'username': 'nic', 'password':'123'})\n",
    "# sun.passwordHash\n",
    "# sun.save()"
   ]
  },
  {
   "cell_type": "markdown",
   "metadata": {},
   "source": [
    "## helper functions"
   ]
  },
  {
   "cell_type": "code",
   "execution_count": null,
   "metadata": {},
   "outputs": [],
   "source": [
    "#export\n",
    "# class H:\n",
    "#   class ParseInputError(Exception): pass\n",
    "#   class SavingUserError(Exception): pass\n",
    "#   @classmethod\n",
    "#   @beartype\n",
    "#   def parseInput(cls,event:dict)->User:\n",
    "#     try:\n",
    "#       user = Event.parseDataClass(User,deepcopy(event))\n",
    "#       return user\n",
    "#     except Exception as e:\n",
    "#       raise cls.ParseInputError(e)\n",
    "  \n",
    "#   @classmethod\n",
    "#   @beartype\n",
    "#   def save(cls, user:User)->bool:\n",
    "#     try:\n",
    "#       user.save()\n",
    "#       return True\n",
    "#     except Exception as e:\n",
    "#       raise cls.SavingUserError(e)\n",
    "      \n",
    "    \n",
    "      "
   ]
  },
  {
   "cell_type": "code",
   "execution_count": null,
   "metadata": {},
   "outputs": [],
   "source": []
  },
  {
   "cell_type": "markdown",
   "metadata": {},
   "source": [
    "## main lambda handler"
   ]
  },
  {
   "cell_type": "code",
   "execution_count": null,
   "metadata": {},
   "outputs": [],
   "source": [
    "#export\n",
    "# def signUp(event, *args):\n",
    "#   try:\n",
    "#     user = H.parseInput(event)\n",
    "#     H.save(user)\n",
    "#     return Response.returnSuccess()\n",
    "#   except H.SavingUserError as e:\n",
    "#     return Response.returnError(f'failed saving user {e}')\n",
    "#   except Exception as e:\n",
    "#     return Response.returnError(f'unknown error {e}')"
   ]
  },
  {
   "cell_type": "code",
   "execution_count": null,
   "metadata": {},
   "outputs": [],
   "source": [
    "# input_ = {'username': 'nic1', 'password':'123'}\n",
    "# event = Event.getInput(body = input_)\n",
    "# signUp(event)"
   ]
  },
  {
   "cell_type": "code",
   "execution_count": null,
   "metadata": {},
   "outputs": [],
   "source": []
  },
  {
   "cell_type": "code",
   "execution_count": null,
   "metadata": {},
   "outputs": [],
   "source": []
  },
  {
   "cell_type": "code",
   "execution_count": null,
   "metadata": {},
   "outputs": [],
   "source": []
  }
 ],
 "metadata": {
  "kernelspec": {
   "display_name": "python38",
   "language": "python",
   "name": "python38"
  }
 },
 "nbformat": 4,
 "nbformat_minor": 4
}
