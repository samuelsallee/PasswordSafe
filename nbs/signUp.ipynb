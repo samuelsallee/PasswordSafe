{
 "cells": [
  {
   "cell_type": "code",
   "execution_count": null,
   "metadata": {},
   "outputs": [],
   "source": [
    "# default_exp signUp"
   ]
  },
  {
   "cell_type": "markdown",
   "metadata": {},
   "source": [
    "# Sign up\n",
    "\n",
    "> sign up"
   ]
  },
  {
   "cell_type": "code",
   "execution_count": null,
   "metadata": {},
   "outputs": [],
   "source": [
    "#export\n",
    "###################### Imports ###########################\n",
    "import hashlib, uuid, os, logging, sys\n",
    "import ujson as json\n",
    "from awsSchema.apigateway import Event,Response\n",
    "from src.passwordTable import PasswordTable\n",
    "from beartype import beartype\n",
    "from copy import deepcopy\n",
    "from pynamodb.models import Model\n",
    "from pynamodb.attributes import (\n",
    "    UnicodeAttribute, NumberAttribute, UnicodeSetAttribute, UTCDateTimeAttribute\n",
    ")"
   ]
  },
  {
   "cell_type": "code",
   "execution_count": null,
   "metadata": {},
   "outputs": [],
   "source": [
    "#export\n",
    "############### Logger for debugging code ##################\n",
    "logger = logging.getLogger(__name__)\n",
    "logger.setLevel(logging.DEBUG)\n",
    "logger.addHandler(logging.StreamHandler(sys.stdout))"
   ]
  },
  {
   "cell_type": "code",
   "execution_count": null,
   "metadata": {},
   "outputs": [],
   "source": [
    "#export\n",
    "########## Error Definitions ##########\n",
    "class HelperError(Exception): pass\n",
    "class ParseInputError(HelperError): pass\n",
    "class AddUserError(HelperError): pass\n",
    "class CreateTableError(HelperError): pass\n",
    "class UsernameAvailabilityError(HelperError): pass"
   ]
  },
  {
   "cell_type": "code",
   "execution_count": null,
   "metadata": {},
   "outputs": [],
   "source": [
    "#hide\n",
    "os.environ['USERPASSWORDTABLE'] = 'user-password-demo-sallee-master'"
   ]
  },
  {
   "cell_type": "code",
   "execution_count": null,
   "metadata": {},
   "outputs": [],
   "source": [
    "#export\n",
    "################ Setting Globals from Env Vars ################\n",
    "USERPASSWORDTABLE = os.environ.get('USERPASSWORDTABLE', 'user-password-demo-sallee-master')"
   ]
  },
  {
   "cell_type": "code",
   "execution_count": null,
   "metadata": {},
   "outputs": [],
   "source": [
    "#export\n",
    "########## Helper class for main function ##########\n",
    "EventInput = dict\n",
    "class H:\n",
    "    @staticmethod\n",
    "    @beartype\n",
    "    def sha256(password: str) -> str:\n",
    "        return hashlib.sha256(password.encode()).hexdigest()\n",
    "    \n",
    "    @staticmethod\n",
    "    @beartype\n",
    "    def salt() -> str:\n",
    "        return uuid.uuid4().hex\n",
    "\n",
    "    @classmethod\n",
    "    @beartype\n",
    "    def salted_sha256(cls, password: str, salt: str ='') -> tuple:\n",
    "        if salt == '':\n",
    "            salt = cls.salt()\n",
    "        return f'{cls.sha256(salt + password)}', f'{salt}'\n",
    "    \n",
    "    @staticmethod\n",
    "    @beartype\n",
    "    def add_user_to_table(username: str, hash: str, salt: str, hashAndSalt: str):\n",
    "        try:\n",
    "\n",
    "            threadItem= PasswordTable(username=deepcopy(username), \n",
    "                                passwordHash=deepcopy(hash), \n",
    "                                salt=deepcopy(salt), \n",
    "                                hashAndSalt=deepcopy(hashAndSalt))\n",
    "            threadItem.save()\n",
    "        except Exception as e:\n",
    "            logger.error(f'Unable to add user to the database:\\n{e}')\n",
    "            raise AddUserError(f'Unable to add user to the database:\\n{e}')\n",
    "        \n",
    "    @staticmethod\n",
    "    @beartype\n",
    "    def parseInput(event: EventInput) -> tuple:\n",
    "        '''\n",
    "        returns username and password arguments from input\n",
    "        '''\n",
    "        \n",
    "        body = Event.parseBody(deepcopy(event))\n",
    "        logger.info(f'Event :: {body}')\n",
    "        try:\n",
    "            username = body['username']\n",
    "        except KeyError:\n",
    "            logger.error('username is not in body')\n",
    "            raise ParseInputError('username is not in body')\n",
    "\n",
    "        try:\n",
    "            password = body['password']\n",
    "        except KeyError:\n",
    "            logger.error('password is not in body')\n",
    "            raise ParseInputError('password is not in body')\n",
    "\n",
    "        return username, password\n",
    "    \n",
    "    \n",
    "    @staticmethod\n",
    "    @beartype\n",
    "    def usernameAvailable(username: str) -> bool:\n",
    "        try:\n",
    "            queryResult = PasswordTable.query(username)\n",
    "            listResult = [row for row in queryResult]\n",
    "            if len(listResult) > 0:\n",
    "                return False\n",
    "            return True\n",
    "        except Exception as e:\n",
    "            logger.error(f'Unable to check whether or not the username is available:\\n{e}')\n",
    "            raise UsernameAvailabilityError(f'Unable to check whether or not the username is available:\\n{e}')\n",
    "        "
   ]
  },
  {
   "cell_type": "code",
   "execution_count": null,
   "metadata": {},
   "outputs": [],
   "source": [
    "#export\n",
    "############################## Main Function ###############################\n",
    "def signUp(event, *args):\n",
    "    try:\n",
    "        username, password = H.parseInput(event)\n",
    "        hashedPw, salt = H.salted_sha256(password)\n",
    "        hashAndSalt = hashedPw + ':' + salt\n",
    "        if not H.usernameAvailable(username):\n",
    "          raise UsernameAvailabilityError(f'User alreaady in database')\n",
    "        H.add_user_to_table(username, hashedPw, salt, hashAndSalt)\n",
    "        return Response.returnSuccess(\"Success\")\n",
    "    except Exception as e:\n",
    "        return Response.returnError(f'Error :: {e}')"
   ]
  }
 ],
 "metadata": {
  "kernelspec": {
   "display_name": "Python 3.8.13 ('LambdaSeg')",
   "language": "python",
   "name": "python3"
  }
 },
 "nbformat": 4,
 "nbformat_minor": 4
}
